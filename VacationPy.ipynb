{
 "cells": [
  {
   "cell_type": "markdown",
   "metadata": {},
   "source": [
    "# VacationPy\n",
    "---\n",
    "\n",
    "## Starter Code to Import Libraries and Load the Weather and Coordinates Data"
   ]
  },
  {
   "cell_type": "code",
   "execution_count": 39,
   "metadata": {},
   "outputs": [],
   "source": [
    "# Dependencies and Setup\n",
    "import hvplot.pandas\n",
    "import pandas as pd\n",
    "import requests\n",
    "\n",
    "# Import API key\n",
    "from api_keys import geoapify_key"
   ]
  },
  {
   "cell_type": "code",
   "execution_count": 41,
   "metadata": {},
   "outputs": [
    {
     "data": {
      "text/html": [
       "<div>\n",
       "<style scoped>\n",
       "    .dataframe tbody tr th:only-of-type {\n",
       "        vertical-align: middle;\n",
       "    }\n",
       "\n",
       "    .dataframe tbody tr th {\n",
       "        vertical-align: top;\n",
       "    }\n",
       "\n",
       "    .dataframe thead th {\n",
       "        text-align: right;\n",
       "    }\n",
       "</style>\n",
       "<table border=\"1\" class=\"dataframe\">\n",
       "  <thead>\n",
       "    <tr style=\"text-align: right;\">\n",
       "      <th></th>\n",
       "      <th>City_ID</th>\n",
       "      <th>City</th>\n",
       "      <th>Lat</th>\n",
       "      <th>Lng</th>\n",
       "      <th>Max Temp</th>\n",
       "      <th>Humidity</th>\n",
       "      <th>Cloudiness</th>\n",
       "      <th>Wind Speed</th>\n",
       "      <th>Country</th>\n",
       "      <th>Date</th>\n",
       "    </tr>\n",
       "  </thead>\n",
       "  <tbody>\n",
       "    <tr>\n",
       "      <th>0</th>\n",
       "      <td>0</td>\n",
       "      <td>margaret river</td>\n",
       "      <td>-33.9500</td>\n",
       "      <td>115.0667</td>\n",
       "      <td>289.28</td>\n",
       "      <td>87</td>\n",
       "      <td>100</td>\n",
       "      <td>8.63</td>\n",
       "      <td>AU</td>\n",
       "      <td>1722896453</td>\n",
       "    </tr>\n",
       "    <tr>\n",
       "      <th>1</th>\n",
       "      <td>1</td>\n",
       "      <td>broome</td>\n",
       "      <td>42.2506</td>\n",
       "      <td>-75.8330</td>\n",
       "      <td>296.58</td>\n",
       "      <td>88</td>\n",
       "      <td>100</td>\n",
       "      <td>2.57</td>\n",
       "      <td>US</td>\n",
       "      <td>1722896454</td>\n",
       "    </tr>\n",
       "    <tr>\n",
       "      <th>2</th>\n",
       "      <td>2</td>\n",
       "      <td>longyearbyen</td>\n",
       "      <td>78.2186</td>\n",
       "      <td>15.6401</td>\n",
       "      <td>281.06</td>\n",
       "      <td>93</td>\n",
       "      <td>40</td>\n",
       "      <td>4.63</td>\n",
       "      <td>SJ</td>\n",
       "      <td>1722896455</td>\n",
       "    </tr>\n",
       "    <tr>\n",
       "      <th>3</th>\n",
       "      <td>3</td>\n",
       "      <td>novoagansk</td>\n",
       "      <td>61.9449</td>\n",
       "      <td>76.6625</td>\n",
       "      <td>284.07</td>\n",
       "      <td>85</td>\n",
       "      <td>100</td>\n",
       "      <td>4.01</td>\n",
       "      <td>RU</td>\n",
       "      <td>1722896456</td>\n",
       "    </tr>\n",
       "    <tr>\n",
       "      <th>4</th>\n",
       "      <td>4</td>\n",
       "      <td>avarua</td>\n",
       "      <td>-21.2078</td>\n",
       "      <td>-159.7750</td>\n",
       "      <td>299.18</td>\n",
       "      <td>78</td>\n",
       "      <td>75</td>\n",
       "      <td>5.66</td>\n",
       "      <td>CK</td>\n",
       "      <td>1722896457</td>\n",
       "    </tr>\n",
       "  </tbody>\n",
       "</table>\n",
       "</div>"
      ],
      "text/plain": [
       "   City_ID            City      Lat       Lng  Max Temp  Humidity  Cloudiness  \\\n",
       "0        0  margaret river -33.9500  115.0667    289.28        87         100   \n",
       "1        1          broome  42.2506  -75.8330    296.58        88         100   \n",
       "2        2    longyearbyen  78.2186   15.6401    281.06        93          40   \n",
       "3        3      novoagansk  61.9449   76.6625    284.07        85         100   \n",
       "4        4          avarua -21.2078 -159.7750    299.18        78          75   \n",
       "\n",
       "   Wind Speed Country        Date  \n",
       "0        8.63      AU  1722896453  \n",
       "1        2.57      US  1722896454  \n",
       "2        4.63      SJ  1722896455  \n",
       "3        4.01      RU  1722896456  \n",
       "4        5.66      CK  1722896457  "
      ]
     },
     "execution_count": 41,
     "metadata": {},
     "output_type": "execute_result"
    }
   ],
   "source": [
    "# Load the CSV file created in Part 1 into a Pandas DataFrame\n",
    "city_data_df = pd.read_csv(\"output_data/cities.csv\")\n",
    "\n",
    "# Display sample data\n",
    "city_data_df.head()"
   ]
  },
  {
   "cell_type": "markdown",
   "metadata": {},
   "source": [
    "---\n",
    "\n",
    "### Step 1: Create a map that displays a point for every city in the `city_data_df` DataFrame. The size of the point should be the humidity in each city."
   ]
  },
  {
   "cell_type": "code",
   "execution_count": 44,
   "metadata": {},
   "outputs": [
    {
     "data": {},
     "metadata": {},
     "output_type": "display_data"
    },
    {
     "data": {
      "application/vnd.holoviews_exec.v0+json": "",
      "text/html": [
       "<div id='p1330'>\n",
       "  <div id=\"e8dcabe8-198a-415a-a5a4-51d75e6a5eaa\" data-root-id=\"p1330\" style=\"display: contents;\"></div>\n",
       "</div>\n",
       "<script type=\"application/javascript\">(function(root) {\n",
       "  var docs_json = {\"af65b13e-a536-472f-b0c3-6ba0109af528\":{\"version\":\"3.4.1\",\"title\":\"Bokeh Application\",\"roots\":[{\"type\":\"object\",\"name\":\"Row\",\"id\":\"p1330\",\"attributes\":{\"name\":\"Row02113\",\"tags\":[\"embedded\"],\"stylesheets\":[\"\\n:host(.pn-loading):before, .pn-loading:before {\\n  background-color: #c3c3c3;\\n  mask-size: auto calc(min(50%, 400px));\\n  -webkit-mask-size: auto calc(min(50%, 400px));\\n}\",{\"type\":\"object\",\"name\":\"ImportedStyleSheet\",\"id\":\"p1333\",\"attributes\":{\"url\":\"https://cdn.holoviz.org/panel/1.4.4/dist/css/loading.css\"}},{\"type\":\"object\",\"name\":\"ImportedStyleSheet\",\"id\":\"p1432\",\"attributes\":{\"url\":\"https://cdn.holoviz.org/panel/1.4.4/dist/css/listpanel.css\"}},{\"type\":\"object\",\"name\":\"ImportedStyleSheet\",\"id\":\"p1331\",\"attributes\":{\"url\":\"https://cdn.holoviz.org/panel/1.4.4/dist/bundled/theme/default.css\"}},{\"type\":\"object\",\"name\":\"ImportedStyleSheet\",\"id\":\"p1332\",\"attributes\":{\"url\":\"https://cdn.holoviz.org/panel/1.4.4/dist/bundled/theme/native.css\"}}],\"margin\":0,\"sizing_mode\":\"stretch_width\",\"align\":\"start\",\"children\":[{\"type\":\"object\",\"name\":\"Spacer\",\"id\":\"p1334\",\"attributes\":{\"name\":\"HSpacer02119\",\"stylesheets\":[\"\\n:host(.pn-loading):before, .pn-loading:before {\\n  background-color: #c3c3c3;\\n  mask-size: auto calc(min(50%, 400px));\\n  -webkit-mask-size: auto calc(min(50%, 400px));\\n}\",{\"id\":\"p1333\"},{\"id\":\"p1331\"},{\"id\":\"p1332\"}],\"margin\":0,\"sizing_mode\":\"stretch_width\",\"align\":\"start\"}},{\"type\":\"object\",\"name\":\"Figure\",\"id\":\"p1373\",\"attributes\":{\"width\":null,\"height\":null,\"margin\":[5,10],\"sizing_mode\":\"fixed\",\"align\":\"start\",\"x_range\":{\"type\":\"object\",\"name\":\"Range1d\",\"id\":\"p1344\",\"attributes\":{\"tags\":[[[\"Longitude\",null]],[]],\"start\":-22610427.25651504,\"end\":22713241.938211706,\"reset_start\":-22610427.25651504,\"reset_end\":22713241.938211706,\"min_interval\":5}},\"y_range\":{\"type\":\"object\",\"name\":\"Range1d\",\"id\":\"p1345\",\"attributes\":{\"tags\":[[[\"Latitude\",null]],{\"type\":\"map\",\"entries\":[[\"invert_yaxis\",false],[\"autorange\",false]]}],\"start\":-13414554.428424798,\"end\":20578197.46762027,\"reset_start\":-13414554.428424798,\"reset_end\":20578197.46762027,\"min_interval\":5}},\"x_scale\":{\"type\":\"object\",\"name\":\"LinearScale\",\"id\":\"p1383\"},\"y_scale\":{\"type\":\"object\",\"name\":\"LinearScale\",\"id\":\"p1384\"},\"title\":{\"type\":\"object\",\"name\":\"Title\",\"id\":\"p1376\",\"attributes\":{\"text_color\":\"black\",\"text_font_size\":\"12pt\"}},\"renderers\":[{\"type\":\"object\",\"name\":\"TileRenderer\",\"id\":\"p1406\",\"attributes\":{\"level\":\"underlay\",\"tile_source\":{\"type\":\"object\",\"name\":\"WMTSTileSource\",\"id\":\"p1402\",\"attributes\":{\"url\":\"https://c.tile.openstreetmap.org/{Z}/{X}/{Y}.png\",\"attribution\":\"&copy; <a href=\\\"https://www.openstreetmap.org/copyright\\\">OpenStreetMap</a> contributors\"}}}},{\"type\":\"object\",\"name\":\"GlyphRenderer\",\"id\":\"p1422\",\"attributes\":{\"name\":\"color\",\"data_source\":{\"type\":\"object\",\"name\":\"ColumnDataSource\",\"id\":\"p1411\",\"attributes\":{\"selected\":{\"type\":\"object\",\"name\":\"Selection\",\"id\":\"p1412\",\"attributes\":{\"indices\":[],\"line_indices\":[]}},\"selection_policy\":{\"type\":\"object\",\"name\":\"UnionRenderers\",\"id\":\"p1413\"},\"data\":{\"type\":\"map\",\"entries\":[[\"Lng\",{\"type\":\"ndarray\",\"array\":{\"type\":\"bytes\",\"data\":\"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\"},\"shape\":[570],\"dtype\":\"float64\",\"order\":\"little\"}],[\"Lat\",{\"type\":\"ndarray\",\"array\":{\"type\":\"bytes\",\"data\":\"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\"},\"shape\":[570],\"dtype\":\"float64\",\"order\":\"little\"}],[\"City\",[\"margaret river\",\"broome\",\"longyearbyen\",\"novoagansk\",\"avarua\",\"wanning\",\"yellowknife\",\"anadyr\",\"thompson\",\"blackmans bay\",\"waitangi\",\"adamstown\",\"afaahiti\",\"lihue\",\"calceta\",\"grytviken\",\"port-aux-francais\",\"bochum\",\"ushuaia\",\"ribeira brava\",\"la mira\",\"arraial do cabo\",\"shirgaon\",\"mariental\",\"nar'yan-mar\",\"whitehorse\",\"khamis mushait\",\"cozumel\",\"mbandaka\",\"port elizabeth\",\"edinburgh of the seven seas\",\"vanimo\",\"usinsk\",\"tura\",\"touros\",\"invercargill\",\"iqaluit\",\"christchurch\",\"sandnessjoen\",\"huarmey\",\"ribeira grande\",\"zheleznogorsk-ilimskiy\",\"lashio\",\"paramonga\",\"sorsk\",\"bamboo flat\",\"puerto natales\",\"haiku-pauwela\",\"udachny\",\"ust-nera\",\"armenia\",\"tiksi\",\"tauranga\",\"selebi-phikwe\",\"kallidaikurichi\",\"miandoab\",\"atafu village\",\"papatowai\",\"carnarvon\",\"flying fish cove\",\"hawaiian paradise park\",\"fort bragg\",\"nadym\",\"mahina\",\"songea\",\"weiser\",\"moapa valley\",\"north platte\",\"aykhal\",\"geraldton\",\"erenhot\",\"inverloch\",\"sadjoavato\",\"mount isa\",\"crane\",\"college\",\"ust-tsilma\",\"amos\",\"enewetak\",\"happy valley-goose bay\",\"concordia\",\"nadi\",\"ad dabbah\",\"susuman\",\"vorgashor\",\"klyuchi\",\"dengzhou\",\"zilair\",\"port alfred\",\"devonport\",\"talnakh\",\"rio grande\",\"raja\",\"abdurahmoni jomi\",\"isafjordur\",\"lansdowne\",\"albany\",\"zaraza\",\"vila franca do campo\",\"queenstown\",\"kavieng\",\"west island\",\"nemuro\",\"riorges\",\"ilulissat\",\"tabuk\",\"palmas\",\"arua\",\"paraparaumu\",\"fale old settlement\",\"saint-joseph\",\"kailua-kona\",\"spearfish\",\"tolanaro\",\"piacabucu\",\"lerwick\",\"todaraisingh\",\"rongelap\",\"hassi messaoud\",\"takum\",\"lazaro cardenas\",\"kenora\",\"machico\",\"stanley\",\"badger\",\"mitu\",\"bethel\",\"wailua homesteads\",\"khandyga\",\"xam nua\",\"mount gambier\",\"berbera\",\"qaqortoq\",\"bilibino\",\"jamestown\",\"constantia\",\"olonkinbyen\",\"port arthur\",\"chibougamau\",\"doctor mora\",\"coquimbo\",\"saldanha\",\"penzance\",\"ballycastle\",\"tazovsky\",\"egilsstadir\",\"hermanus\",\"sungailiat\",\"batangafo\",\"callao\",\"ancud\",\"kingston\",\"kindia\",\"nago\",\"yumbe\",\"gharghoda\",\"okhotsk\",\"paragominas\",\"mpika\",\"muli\",\"priargunsk\",\"sisimiut\",\"beloyarskiy\",\"santa elena de uairen\",\"weno\",\"saint-philippe\",\"abra pampa\",\"moissala\",\"at taj\",\"jumla\",\"tsengel\",\"nishinoomote\",\"yuzhno-kurilsk\",\"alice springs\",\"el nido\",\"nowy dwor mazowiecki\",\"lebu\",\"punta arenas\",\"boca suno\",\"las delicias\",\"bredasdorp\",\"veinticinco de mayo\",\"sitka\",\"namibe\",\"aasiaat\",\"medicine hat\",\"pandan\",\"puerto leguizamo\",\"tyukhtet\",\"patterson\",\"orono\",\"auki\",\"opuwo\",\"broken hill\",\"port mathurin\",\"korsakov\",\"corfu\",\"puerto ayora\",\"morehead city\",\"taroa\",\"newman\",\"mogadishu\",\"gadzhiyevo\",\"ankang\",\"asenovgrad\",\"mournies\",\"mejit\",\"tranqueras\",\"pionerskiy\",\"kolaras\",\"port lincoln\",\"ebon\",\"kodiak\",\"alvorada\",\"senillosa\",\"bengkulu\",\"vadso\",\"khairpur nathan shah\",\"tshikapa\",\"skovorodino\",\"felege neway\",\"hamilton\",\"hasaki\",\"birganj\",\"baihe\",\"manaure\",\"bikenibeu village\",\"tsiombe\",\"turtas\",\"east ballina\",\"minas de marcona\",\"chegdomyn\",\"gobabis\",\"mount pearl\",\"petropavlovsk-kamchatsky\",\"monrovia\",\"kharp\",\"vilyuchinsk\",\"birine\",\"lata\",\"salalah\",\"uturoa\",\"nova sintra\",\"katima mulilo\",\"camacupa\",\"chonchi\",\"shumikha\",\"spring creek\",\"antofagasta\",\"mahebourg\",\"ponta delgada\",\"champerico\",\"wucheng\",\"horta\",\"polyarnyy\",\"tianpeng\",\"vila velha\",\"mumbwa\",\"thunder bay\",\"vondrozo\",\"le port\",\"mikkeli\",\"marquette\",\"patnanungan\",\"mermoz boabab\",\"idrinskoye\",\"island harbour\",\"liwa\",\"selfoss\",\"la passe\",\"hilo\",\"pont rouge\",\"mont-laurier\",\"novo aripuana\",\"olinda\",\"dzuunharaa\",\"matola\",\"utrik\",\"shuangjiang\",\"chernomorskoye\",\"bardai\",\"pitiquito\",\"yelovo\",\"sao felix do xingu\",\"colonia\",\"preobrazheniye\",\"guatire\",\"mtimbira\",\"port-vila\",\"kasongo-lunda\",\"chuguyevka\",\"krasnoshchekovo\",\"cidreira\",\"sona\",\"kolonia\",\"kariba\",\"pisco\",\"puerto baquerizo moreno\",\"nagqu\",\"escuinapa\",\"guelmim\",\"wangqing\",\"banda aceh\",\"vikindu\",\"holualoa\",\"kobarid\",\"remire-montjoly\",\"georgetown\",\"east london\",\"notodden\",\"ciudad tula\",\"deschutes river woods\",\"catriel\",\"lavras da mangabeira\",\"ivanteyevka\",\"merizo village\",\"rolla\",\"heroica matamoros\",\"las tablas\",\"phrae\",\"callaway\",\"siguiri\",\"kiruhura\",\"zhangjiajie\",\"tortoli\",\"prince george\",\"malgobek\",\"katsuura\",\"kiama\",\"san juan nepomuceno\",\"mesquite\",\"bulungu\",\"port isabel\",\"trairi\",\"zhosaly\",\"lidzbark warminski\",\"mozarlandia\",\"zahedan\",\"bukama\",\"tofol\",\"lompoc\",\"dong ha\",\"dudinka\",\"porto velho\",\"ain beida\",\"sfantu gheorghe\",\"sechura\",\"sola\",\"kuala terengganu\",\"ketchikan\",\"rudbar\",\"toyooka\",\"pago pago\",\"baruun-urt\",\"thinadhoo\",\"port blair\",\"ceeldheer\",\"kiruna\",\"sinop\",\"novyy urengoy\",\"ulsteinvik\",\"turpan\",\"kone\",\"klaksvik\",\"kapuskasing\",\"mokhsogollokh\",\"salahonda\",\"saint-pierre\",\"usogorsk\",\"marshall\",\"dhuusamarreeb\",\"burutu\",\"yandev\",\"jatiroto\",\"fortuna\",\"caleta de carquin\",\"vera cruz\",\"severo-yeniseyskiy\",\"kumasi\",\"armacao de buzios\",\"shingu\",\"port hedland\",\"dolinsk\",\"chateau-du-loir\",\"gaiman\",\"kochani\",\"moussoro\",\"yatou\",\"vernon\",\"pecos\",\"alamosa\",\"kavaratti\",\"brindisi\",\"dungarvan\",\"iwanai\",\"st. john's\",\"grand falls-windsor\",\"maceio\",\"sao joao da barra\",\"salmas\",\"aroma\",\"bubaque\",\"worland\",\"malango\",\"lady frere\",\"keflavik\",\"velilla de san antonio\",\"kirkland lake\",\"tanumah\",\"laguna\",\"dunedin\",\"tamanrasset\",\"suzhou\",\"kiboga\",\"codrington\",\"aral\",\"labrador city\",\"brookings\",\"inarajan village\",\"tobelo\",\"mar del plata\",\"peniche\",\"dara\",\"cabo san lucas\",\"agaro\",\"sangmelima\",\"daulatpur\",\"hammerfest\",\"oberwart\",\"chipinge\",\"nova vicosa\",\"luderitz\",\"trondheim\",\"nabire\",\"charlottetown\",\"dolores\",\"yanbu\",\"al qubbah\",\"howard springs\",\"guiratinga\",\"tazacorte\",\"khulm\",\"nahiyat ash shinafiyah\",\"sao paulo de olivenca\",\"boa vista\",\"emerald\",\"kargil\",\"carauari\",\"nieuw amsterdam\",\"mugia\",\"palmer\",\"pariaman\",\"hargeysa\",\"la'ie\",\"new glasgow\",\"anjozorobe\",\"staroleushkovskaya\",\"inyati\",\"salinas\",\"naraini\",\"praia da vitoria\",\"hobyo\",\"yerseke\",\"ust'-kut\",\"schuyler\",\"brilon\",\"al burayqah\",\"nouadhibou\",\"esfarayen\",\"prado\",\"aginskoye\",\"zakynthos\",\"new norfolk\",\"itaperucu\",\"kolomyia\",\"antalaha\",\"isangel\",\"plainview\",\"guerrero negro\",\"nema\",\"xiantao\",\"verkhnevilyuysk\",\"inongo\",\"palma sola\",\"moose jaw\",\"tual\",\"tono\",\"liepaja\",\"abu zabad\",\"aberdeen\",\"kill devil hills\",\"luganville\",\"pemangkat\",\"knyaze-volkonskoye\",\"antonio enes\",\"ke-macina\",\"kachug\",\"mili\",\"sodo\",\"barra de santo antonio\",\"kenai\",\"smithers\",\"misratah\",\"hadibu\",\"north bend\",\"fort st. john\",\"panacan\",\"manta\",\"manokwari\",\"batroun\",\"chelbasskaya\",\"buala\",\"san antonio de pale\",\"hithadhoo\",\"saudarkrokur\",\"toamasina\",\"beauvais\",\"awjilah\",\"ulety\",\"carutapera\",\"wuyishan\",\"dahab\",\"ad-damazin\",\"longido\",\"tarawa\",\"hafnarfjordur\",\"sangkhla buri\",\"dazhong\",\"yuli\",\"dalnegorsk\",\"fuerte olimpo\",\"pyapon\",\"matthew town\",\"alofi\",\"tabou\",\"fort mcmurray\",\"tucurui\",\"shihezi\",\"kem'\",\"monte alegre\",\"pasuquin\",\"whangarei\",\"iskateley\",\"mandiana\",\"saipan\",\"port saint john's\",\"mutsu\",\"wewak\",\"ondjiva\",\"strezhevoy\",\"murghob\",\"kosh-agach\",\"arak\",\"khanty-mansiysk\",\"slave lake\",\"priozersk\",\"mariehamn\",\"ati\",\"bel ombre\",\"prince rupert\",\"olyokminsk\",\"oamaru\",\"marka\",\"zindah jan\",\"fada n'gourma\",\"ta`u\",\"hami\",\"cannonvale\",\"mantsala\",\"panjab\"]],[\"Humidity\",{\"type\":\"ndarray\",\"array\":{\"type\":\"bytes\",\"data\":\"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\"},\"shape\":[570],\"dtype\":\"int32\",\"order\":\"little\"}],[\"color\",[\"margaret river\",\"broome\",\"longyearbyen\",\"novoagansk\",\"avarua\",\"wanning\",\"yellowknife\",\"anadyr\",\"thompson\",\"blackmans bay\",\"waitangi\",\"adamstown\",\"afaahiti\",\"lihue\",\"calceta\",\"grytviken\",\"port-aux-francais\",\"bochum\",\"ushuaia\",\"ribeira brava\",\"la mira\",\"arraial do cabo\",\"shirgaon\",\"mariental\",\"nar'yan-mar\",\"whitehorse\",\"khamis mushait\",\"cozumel\",\"mbandaka\",\"port elizabeth\",\"edinburgh of the seven seas\",\"vanimo\",\"usinsk\",\"tura\",\"touros\",\"invercargill\",\"iqaluit\",\"christchurch\",\"sandnessjoen\",\"huarmey\",\"ribeira grande\",\"zheleznogorsk-ilimskiy\",\"lashio\",\"paramonga\",\"sorsk\",\"bamboo flat\",\"puerto natales\",\"haiku-pauwela\",\"udachny\",\"ust-nera\",\"armenia\",\"tiksi\",\"tauranga\",\"selebi-phikwe\",\"kallidaikurichi\",\"miandoab\",\"atafu village\",\"papatowai\",\"carnarvon\",\"flying fish cove\",\"hawaiian paradise park\",\"fort bragg\",\"nadym\",\"mahina\",\"songea\",\"weiser\",\"moapa valley\",\"north platte\",\"aykhal\",\"geraldton\",\"erenhot\",\"inverloch\",\"sadjoavato\",\"mount isa\",\"crane\",\"college\",\"ust-tsilma\",\"amos\",\"enewetak\",\"happy valley-goose bay\",\"concordia\",\"nadi\",\"ad dabbah\",\"susuman\",\"vorgashor\",\"klyuchi\",\"dengzhou\",\"zilair\",\"port alfred\",\"devonport\",\"talnakh\",\"rio grande\",\"raja\",\"abdurahmoni jomi\",\"isafjordur\",\"lansdowne\",\"albany\",\"zaraza\",\"vila franca do campo\",\"queenstown\",\"kavieng\",\"west island\",\"nemuro\",\"riorges\",\"ilulissat\",\"tabuk\",\"palmas\",\"arua\",\"paraparaumu\",\"fale old settlement\",\"saint-joseph\",\"kailua-kona\",\"spearfish\",\"tolanaro\",\"piacabucu\",\"lerwick\",\"todaraisingh\",\"rongelap\",\"hassi messaoud\",\"takum\",\"lazaro cardenas\",\"kenora\",\"machico\",\"stanley\",\"badger\",\"mitu\",\"bethel\",\"wailua homesteads\",\"khandyga\",\"xam nua\",\"mount gambier\",\"berbera\",\"qaqortoq\",\"bilibino\",\"jamestown\",\"constantia\",\"olonkinbyen\",\"port arthur\",\"chibougamau\",\"doctor mora\",\"coquimbo\",\"saldanha\",\"penzance\",\"ballycastle\",\"tazovsky\",\"egilsstadir\",\"hermanus\",\"sungailiat\",\"batangafo\",\"callao\",\"ancud\",\"kingston\",\"kindia\",\"nago\",\"yumbe\",\"gharghoda\",\"okhotsk\",\"paragominas\",\"mpika\",\"muli\",\"priargunsk\",\"sisimiut\",\"beloyarskiy\",\"santa elena de uairen\",\"weno\",\"saint-philippe\",\"abra pampa\",\"moissala\",\"at taj\",\"jumla\",\"tsengel\",\"nishinoomote\",\"yuzhno-kurilsk\",\"alice springs\",\"el nido\",\"nowy dwor mazowiecki\",\"lebu\",\"punta arenas\",\"boca suno\",\"las delicias\",\"bredasdorp\",\"veinticinco de mayo\",\"sitka\",\"namibe\",\"aasiaat\",\"medicine hat\",\"pandan\",\"puerto leguizamo\",\"tyukhtet\",\"patterson\",\"orono\",\"auki\",\"opuwo\",\"broken hill\",\"port mathurin\",\"korsakov\",\"corfu\",\"puerto ayora\",\"morehead city\",\"taroa\",\"newman\",\"mogadishu\",\"gadzhiyevo\",\"ankang\",\"asenovgrad\",\"mournies\",\"mejit\",\"tranqueras\",\"pionerskiy\",\"kolaras\",\"port lincoln\",\"ebon\",\"kodiak\",\"alvorada\",\"senillosa\",\"bengkulu\",\"vadso\",\"khairpur nathan shah\",\"tshikapa\",\"skovorodino\",\"felege neway\",\"hamilton\",\"hasaki\",\"birganj\",\"baihe\",\"manaure\",\"bikenibeu village\",\"tsiombe\",\"turtas\",\"east ballina\",\"minas de marcona\",\"chegdomyn\",\"gobabis\",\"mount pearl\",\"petropavlovsk-kamchatsky\",\"monrovia\",\"kharp\",\"vilyuchinsk\",\"birine\",\"lata\",\"salalah\",\"uturoa\",\"nova sintra\",\"katima mulilo\",\"camacupa\",\"chonchi\",\"shumikha\",\"spring creek\",\"antofagasta\",\"mahebourg\",\"ponta delgada\",\"champerico\",\"wucheng\",\"horta\",\"polyarnyy\",\"tianpeng\",\"vila velha\",\"mumbwa\",\"thunder bay\",\"vondrozo\",\"le port\",\"mikkeli\",\"marquette\",\"patnanungan\",\"mermoz boabab\",\"idrinskoye\",\"island harbour\",\"liwa\",\"selfoss\",\"la passe\",\"hilo\",\"pont rouge\",\"mont-laurier\",\"novo aripuana\",\"olinda\",\"dzuunharaa\",\"matola\",\"utrik\",\"shuangjiang\",\"chernomorskoye\",\"bardai\",\"pitiquito\",\"yelovo\",\"sao felix do xingu\",\"colonia\",\"preobrazheniye\",\"guatire\",\"mtimbira\",\"port-vila\",\"kasongo-lunda\",\"chuguyevka\",\"krasnoshchekovo\",\"cidreira\",\"sona\",\"kolonia\",\"kariba\",\"pisco\",\"puerto baquerizo moreno\",\"nagqu\",\"escuinapa\",\"guelmim\",\"wangqing\",\"banda aceh\",\"vikindu\",\"holualoa\",\"kobarid\",\"remire-montjoly\",\"georgetown\",\"east london\",\"notodden\",\"ciudad tula\",\"deschutes river woods\",\"catriel\",\"lavras da mangabeira\",\"ivanteyevka\",\"merizo village\",\"rolla\",\"heroica matamoros\",\"las tablas\",\"phrae\",\"callaway\",\"siguiri\",\"kiruhura\",\"zhangjiajie\",\"tortoli\",\"prince george\",\"malgobek\",\"katsuura\",\"kiama\",\"san juan nepomuceno\",\"mesquite\",\"bulungu\",\"port isabel\",\"trairi\",\"zhosaly\",\"lidzbark warminski\",\"mozarlandia\",\"zahedan\",\"bukama\",\"tofol\",\"lompoc\",\"dong ha\",\"dudinka\",\"porto velho\",\"ain beida\",\"sfantu gheorghe\",\"sechura\",\"sola\",\"kuala terengganu\",\"ketchikan\",\"rudbar\",\"toyooka\",\"pago pago\",\"baruun-urt\",\"thinadhoo\",\"port blair\",\"ceeldheer\",\"kiruna\",\"sinop\",\"novyy urengoy\",\"ulsteinvik\",\"turpan\",\"kone\",\"klaksvik\",\"kapuskasing\",\"mokhsogollokh\",\"salahonda\",\"saint-pierre\",\"usogorsk\",\"marshall\",\"dhuusamarreeb\",\"burutu\",\"yandev\",\"jatiroto\",\"fortuna\",\"caleta de carquin\",\"vera cruz\",\"severo-yeniseyskiy\",\"kumasi\",\"armacao de buzios\",\"shingu\",\"port hedland\",\"dolinsk\",\"chateau-du-loir\",\"gaiman\",\"kochani\",\"moussoro\",\"yatou\",\"vernon\",\"pecos\",\"alamosa\",\"kavaratti\",\"brindisi\",\"dungarvan\",\"iwanai\",\"st. john's\",\"grand falls-windsor\",\"maceio\",\"sao joao da barra\",\"salmas\",\"aroma\",\"bubaque\",\"worland\",\"malango\",\"lady frere\",\"keflavik\",\"velilla de san antonio\",\"kirkland lake\",\"tanumah\",\"laguna\",\"dunedin\",\"tamanrasset\",\"suzhou\",\"kiboga\",\"codrington\",\"aral\",\"labrador city\",\"brookings\",\"inarajan village\",\"tobelo\",\"mar del plata\",\"peniche\",\"dara\",\"cabo san lucas\",\"agaro\",\"sangmelima\",\"daulatpur\",\"hammerfest\",\"oberwart\",\"chipinge\",\"nova vicosa\",\"luderitz\",\"trondheim\",\"nabire\",\"charlottetown\",\"dolores\",\"yanbu\",\"al qubbah\",\"howard springs\",\"guiratinga\",\"tazacorte\",\"khulm\",\"nahiyat ash shinafiyah\",\"sao paulo de olivenca\",\"boa vista\",\"emerald\",\"kargil\",\"carauari\",\"nieuw amsterdam\",\"mugia\",\"palmer\",\"pariaman\",\"hargeysa\",\"la'ie\",\"new glasgow\",\"anjozorobe\",\"staroleushkovskaya\",\"inyati\",\"salinas\",\"naraini\",\"praia da vitoria\",\"hobyo\",\"yerseke\",\"ust'-kut\",\"schuyler\",\"brilon\",\"al burayqah\",\"nouadhibou\",\"esfarayen\",\"prado\",\"aginskoye\",\"zakynthos\",\"new norfolk\",\"itaperucu\",\"kolomyia\",\"antalaha\",\"isangel\",\"plainview\",\"guerrero negro\",\"nema\",\"xiantao\",\"verkhnevilyuysk\",\"inongo\",\"palma sola\",\"moose jaw\",\"tual\",\"tono\",\"liepaja\",\"abu zabad\",\"aberdeen\",\"kill devil hills\",\"luganville\",\"pemangkat\",\"knyaze-volkonskoye\",\"antonio enes\",\"ke-macina\",\"kachug\",\"mili\",\"sodo\",\"barra de santo antonio\",\"kenai\",\"smithers\",\"misratah\",\"hadibu\",\"north bend\",\"fort st. john\",\"panacan\",\"manta\",\"manokwari\",\"batroun\",\"chelbasskaya\",\"buala\",\"san antonio de pale\",\"hithadhoo\",\"saudarkrokur\",\"toamasina\",\"beauvais\",\"awjilah\",\"ulety\",\"carutapera\",\"wuyishan\",\"dahab\",\"ad-damazin\",\"longido\",\"tarawa\",\"hafnarfjordur\",\"sangkhla buri\",\"dazhong\",\"yuli\",\"dalnegorsk\",\"fuerte olimpo\",\"pyapon\",\"matthew town\",\"alofi\",\"tabou\",\"fort mcmurray\",\"tucurui\",\"shihezi\",\"kem'\",\"monte alegre\",\"pasuquin\",\"whangarei\",\"iskateley\",\"mandiana\",\"saipan\",\"port saint john's\",\"mutsu\",\"wewak\",\"ondjiva\",\"strezhevoy\",\"murghob\",\"kosh-agach\",\"arak\",\"khanty-mansiysk\",\"slave lake\",\"priozersk\",\"mariehamn\",\"ati\",\"bel ombre\",\"prince rupert\",\"olyokminsk\",\"oamaru\",\"marka\",\"zindah jan\",\"fada n'gourma\",\"ta`u\",\"hami\",\"cannonvale\",\"mantsala\",\"panjab\"]],[\"size\",{\"type\":\"ndarray\",\"array\":{\"type\":\"bytes\",\"data\":\"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\"},\"shape\":[570],\"dtype\":\"float64\",\"order\":\"little\"}]]}}},\"view\":{\"type\":\"object\",\"name\":\"CDSView\",\"id\":\"p1423\",\"attributes\":{\"filter\":{\"type\":\"object\",\"name\":\"AllIndices\",\"id\":\"p1424\"}}},\"glyph\":{\"type\":\"object\",\"name\":\"Scatter\",\"id\":\"p1417\",\"attributes\":{\"tags\":[\"apply_ranges\"],\"x\":{\"type\":\"field\",\"field\":\"Lng\"},\"y\":{\"type\":\"field\",\"field\":\"Lat\"},\"size\":{\"type\":\"field\",\"field\":\"size\"},\"line_color\":{\"type\":\"field\",\"field\":\"color\",\"transform\":{\"type\":\"object\",\"name\":\"CategoricalColorMapper\",\"id\":\"p1410\",\"attributes\":{\"palette\":[\"#1f77b3\",\"#ff7e0e\",\"#2ba02b\",\"#d62628\",\"#9367bc\",\"#8c564b\",\"#e277c1\",\"#7e7e7e\",\"#bcbc21\",\"#16bdcf\",\"#3a0182\",\"#004201\",\"#0fffa8\",\"#5d003f\",\"#bcbcff\",\"#d8afa1\",\"#b80080\",\"#004d52\",\"#6b6400\",\"#7c0100\",\"#6026ff\",\"#ffff9a\",\"#564964\",\"#8cb893\",\"#93fbff\",\"#018267\",\"#90ff00\",\"#8200a0\",\"#ac8944\",\"#5b3400\",\"#ffbff2\",\"#ff6e75\",\"#798cff\",\"#dd00ff\",\"#505646\",\"#004489\",\"#ffbf60\",\"#ff018c\",\"#bdc8cf\",\"#af97b5\",\"#b65600\",\"#017000\",\"#cd87ff\",\"#1cd646\",\"#bfebc3\",\"#7997b5\",\"#a56089\",\"#6e8956\",\"#bc7c75\",\"#8a2844\",\"#00acff\",\"#8ed4ff\",\"#4b6d77\",\"#00d4b1\",\"#9300f2\",\"#8a9500\",\"#5d5b9e\",\"#fddfba\",\"#00939e\",\"#ffdb00\",\"#00aa79\",\"#520067\",\"#000091\",\"#0a5d3d\",\"#a5e275\",\"#623b41\",\"#c6c689\",\"#ff9eb5\",\"#cd4f6b\",\"#ff07d6\",\"#8a3a05\",\"#7e3d70\",\"#ff4901\",\"#602ba5\",\"#1c00ff\",\"#e6dfff\",\"#aa3baf\",\"#d89c00\",\"#a3a39e\",\"#3f69ff\",\"#46490c\",\"#7b6985\",\"#6b978c\",\"#ff9a75\",\"#835bff\",\"#7c6b46\",\"#80b654\",\"#bc0049\",\"#fd93ff\",\"#5d0018\",\"#89d1d1\",\"#9c8cd3\",\"#da6d42\",\"#8a5700\",\"#3b5069\",\"#4b6b3b\",\"#edcfd8\",\"#cfedff\",\"#aa1500\",\"#dfff4f\",\"#ff2a56\",\"#d1499e\",\"#707cb8\",\"#598000\",\"#00e4fd\",\"#774b95\",\"#67d48c\",\"#3d3a72\",\"#ac413f\",\"#d6a166\",\"#c169cd\",\"#69595d\",\"#87aced\",\"#a0a569\",\"#d1aae6\",\"#870062\",\"#00fddb\",\"#672818\",\"#b342ff\",\"#0e59c4\",\"#168742\",\"#90d300\",\"#cd7900\",\"#f959ff\",\"#5b7466\",\"#8eaeb3\",\"#9c7c8c\",\"#4600c6\",\"#6b4d2d\",\"#a56d46\",\"#9e8972\",\"#a8afca\",\"#cd8ca7\",\"#00fd64\",\"#917900\",\"#ff62a1\",\"#f4ffd8\",\"#018cf0\",\"#13aca0\",\"#5b2d59\",\"#89859e\",\"#cfccba\",\"#d4afc4\",\"#dbdd6d\",\"#cffff4\",\"#006485\",\"#006962\",\"#a84167\",\"#2d97c4\",\"#a874ff\",\"#26ba5d\",\"#57b600\",\"#caffa7\",\"#a379aa\",\"#ffbc93\",\"#89e2c1\",\"#0fc8ff\",\"#d400c4\",\"#626d89\",\"#69858e\",\"#4b4d52\",\"#aa6067\",\"#79b5d4\",\"#2b5916\",\"#9a0024\",\"#bdd1f2\",\"#896e67\",\"#69a56b\",\"#855467\",\"#aecdba\",\"#87997e\",\"#cadb00\",\"#9a0390\",\"#ebbc1a\",\"#eb9cd1\",\"#70006e\",\"#b1a131\",\"#ca6b93\",\"#4146a3\",\"#e48c89\",\"#d44400\",\"#c68aca\",\"#b69597\",\"#d41f75\",\"#724bcc\",\"#674d00\",\"#672138\",\"#38564f\",\"#6ebaaa\",\"#853a31\",\"#a5d397\",\"#b8af8e\",\"#d8e4df\",\"#aa00df\",\"#cac1db\",\"#ffdf8c\",\"#e2524d\",\"#66696e\",\"#ff001c\",\"#522d72\",\"#4d906b\",\"#a86d11\",\"#ff9e26\",\"#5ea3af\",\"#c88556\",\"#915997\",\"#a3a1ff\",\"#fdbaba\",\"#242a87\",\"#dbe6a8\",\"#97f2a7\",\"#6793d6\",\"#ba5b3f\",\"#3a5d91\",\"#364f2f\",\"#267c95\",\"#89959a\",\"#cfb356\",\"#004664\",\"#5e5d2f\",\"#8e8e41\",\"#ac3f13\",\"#69953b\",\"#a13d85\",\"#bfb6ba\",\"#acc667\",\"#6469cf\",\"#91af00\",\"#2be2da\",\"#016e36\",\"#ff7952\",\"#42807e\",\"#4fe800\",\"#995428\",\"#5d0a00\",\"#a30057\",\"#0c8700\",\"#5982a7\",\"#ffebfb\",\"#4b6901\",\"#8775d4\",\"#e6c6ff\",\"#a5ffda\",\"#d86e77\",\"#df014b\",\"#69675b\",\"#776ba1\",\"#7e8067\",\"#594685\",\"#0000ca\",\"#7c002a\",\"#97ff72\",\"#b5e2e1\",\"#db52c8\",\"#777734\",\"#57bd8e\",\"#1f77b3\",\"#ff7e0e\",\"#2ba02b\",\"#d62628\",\"#9367bc\",\"#8c564b\",\"#e277c1\",\"#7e7e7e\",\"#bcbc21\",\"#16bdcf\",\"#3a0182\",\"#004201\",\"#0fffa8\",\"#5d003f\",\"#bcbcff\",\"#d8afa1\",\"#b80080\",\"#004d52\",\"#6b6400\",\"#7c0100\",\"#6026ff\",\"#ffff9a\",\"#564964\",\"#8cb893\",\"#93fbff\",\"#018267\",\"#90ff00\",\"#8200a0\",\"#ac8944\",\"#5b3400\",\"#ffbff2\",\"#ff6e75\",\"#798cff\",\"#dd00ff\",\"#505646\",\"#004489\",\"#ffbf60\",\"#ff018c\",\"#bdc8cf\",\"#af97b5\",\"#b65600\",\"#017000\",\"#cd87ff\",\"#1cd646\",\"#bfebc3\",\"#7997b5\",\"#a56089\",\"#6e8956\",\"#bc7c75\",\"#8a2844\",\"#00acff\",\"#8ed4ff\",\"#4b6d77\",\"#00d4b1\",\"#9300f2\",\"#8a9500\",\"#5d5b9e\",\"#fddfba\",\"#00939e\",\"#ffdb00\",\"#00aa79\",\"#520067\",\"#000091\",\"#0a5d3d\",\"#a5e275\",\"#623b41\",\"#c6c689\",\"#ff9eb5\",\"#cd4f6b\",\"#ff07d6\",\"#8a3a05\",\"#7e3d70\",\"#ff4901\",\"#602ba5\",\"#1c00ff\",\"#e6dfff\",\"#aa3baf\",\"#d89c00\",\"#a3a39e\",\"#3f69ff\",\"#46490c\",\"#7b6985\",\"#6b978c\",\"#ff9a75\",\"#835bff\",\"#7c6b46\",\"#80b654\",\"#bc0049\",\"#fd93ff\",\"#5d0018\",\"#89d1d1\",\"#9c8cd3\",\"#da6d42\",\"#8a5700\",\"#3b5069\",\"#4b6b3b\",\"#edcfd8\",\"#cfedff\",\"#aa1500\",\"#dfff4f\",\"#ff2a56\",\"#d1499e\",\"#707cb8\",\"#598000\",\"#00e4fd\",\"#774b95\",\"#67d48c\",\"#3d3a72\",\"#ac413f\",\"#d6a166\",\"#c169cd\",\"#69595d\",\"#87aced\",\"#a0a569\",\"#d1aae6\",\"#870062\",\"#00fddb\",\"#672818\",\"#b342ff\",\"#0e59c4\",\"#168742\",\"#90d300\",\"#cd7900\",\"#f959ff\",\"#5b7466\",\"#8eaeb3\",\"#9c7c8c\",\"#4600c6\",\"#6b4d2d\",\"#a56d46\",\"#9e8972\",\"#a8afca\",\"#cd8ca7\",\"#00fd64\",\"#917900\",\"#ff62a1\",\"#f4ffd8\",\"#018cf0\",\"#13aca0\",\"#5b2d59\",\"#89859e\",\"#cfccba\",\"#d4afc4\",\"#dbdd6d\",\"#cffff4\",\"#006485\",\"#006962\",\"#a84167\",\"#2d97c4\",\"#a874ff\",\"#26ba5d\",\"#57b600\",\"#caffa7\",\"#a379aa\",\"#ffbc93\",\"#89e2c1\",\"#0fc8ff\",\"#d400c4\",\"#626d89\",\"#69858e\",\"#4b4d52\",\"#aa6067\",\"#79b5d4\",\"#2b5916\",\"#9a0024\",\"#bdd1f2\",\"#896e67\",\"#69a56b\",\"#855467\",\"#aecdba\",\"#87997e\",\"#cadb00\",\"#9a0390\",\"#ebbc1a\",\"#eb9cd1\",\"#70006e\",\"#b1a131\",\"#ca6b93\",\"#4146a3\",\"#e48c89\",\"#d44400\",\"#c68aca\",\"#b69597\",\"#d41f75\",\"#724bcc\",\"#674d00\",\"#672138\",\"#38564f\",\"#6ebaaa\",\"#853a31\",\"#a5d397\",\"#b8af8e\",\"#d8e4df\",\"#aa00df\",\"#cac1db\",\"#ffdf8c\",\"#e2524d\",\"#66696e\",\"#ff001c\",\"#522d72\",\"#4d906b\",\"#a86d11\",\"#ff9e26\",\"#5ea3af\",\"#c88556\",\"#915997\",\"#a3a1ff\",\"#fdbaba\",\"#242a87\",\"#dbe6a8\",\"#97f2a7\",\"#6793d6\",\"#ba5b3f\",\"#3a5d91\",\"#364f2f\",\"#267c95\",\"#89959a\",\"#cfb356\",\"#004664\",\"#5e5d2f\",\"#8e8e41\",\"#ac3f13\",\"#69953b\",\"#a13d85\",\"#bfb6ba\",\"#acc667\",\"#6469cf\",\"#91af00\",\"#2be2da\",\"#016e36\",\"#ff7952\",\"#42807e\",\"#4fe800\",\"#995428\",\"#5d0a00\",\"#a30057\",\"#0c8700\",\"#5982a7\",\"#ffebfb\",\"#4b6901\",\"#8775d4\",\"#e6c6ff\",\"#a5ffda\",\"#d86e77\",\"#df014b\",\"#69675b\",\"#776ba1\",\"#7e8067\",\"#594685\",\"#0000ca\",\"#7c002a\",\"#97ff72\",\"#b5e2e1\",\"#db52c8\",\"#777734\",\"#57bd8e\",\"#1f77b3\",\"#ff7e0e\",\"#2ba02b\",\"#d62628\",\"#9367bc\",\"#8c564b\",\"#e277c1\",\"#7e7e7e\",\"#bcbc21\",\"#16bdcf\",\"#3a0182\",\"#004201\",\"#0fffa8\",\"#5d003f\",\"#bcbcff\",\"#d8afa1\",\"#b80080\",\"#004d52\",\"#6b6400\",\"#7c0100\",\"#6026ff\",\"#ffff9a\",\"#564964\",\"#8cb893\",\"#93fbff\",\"#018267\",\"#90ff00\",\"#8200a0\",\"#ac8944\",\"#5b3400\",\"#ffbff2\",\"#ff6e75\",\"#798cff\",\"#dd00ff\",\"#505646\",\"#004489\",\"#ffbf60\",\"#ff018c\",\"#bdc8cf\",\"#af97b5\",\"#b65600\",\"#017000\",\"#cd87ff\",\"#1cd646\",\"#bfebc3\",\"#7997b5\",\"#a56089\",\"#6e8956\",\"#bc7c75\",\"#8a2844\",\"#00acff\",\"#8ed4ff\",\"#4b6d77\",\"#00d4b1\",\"#9300f2\",\"#8a9500\",\"#5d5b9e\",\"#fddfba\"],\"factors\":[\"margaret river\",\"broome\",\"longyearbyen\",\"novoagansk\",\"avarua\",\"wanning\",\"yellowknife\",\"anadyr\",\"thompson\",\"blackmans bay\",\"waitangi\",\"adamstown\",\"afaahiti\",\"lihue\",\"calceta\",\"grytviken\",\"port-aux-francais\",\"bochum\",\"ushuaia\",\"ribeira brava\",\"la mira\",\"arraial do cabo\",\"shirgaon\",\"mariental\",\"nar'yan-mar\",\"whitehorse\",\"khamis mushait\",\"cozumel\",\"mbandaka\",\"port elizabeth\",\"edinburgh of the seven seas\",\"vanimo\",\"usinsk\",\"tura\",\"touros\",\"invercargill\",\"iqaluit\",\"christchurch\",\"sandnessjoen\",\"huarmey\",\"ribeira grande\",\"zheleznogorsk-ilimskiy\",\"lashio\",\"paramonga\",\"sorsk\",\"bamboo flat\",\"puerto natales\",\"haiku-pauwela\",\"udachny\",\"ust-nera\",\"armenia\",\"tiksi\",\"tauranga\",\"selebi-phikwe\",\"kallidaikurichi\",\"miandoab\",\"atafu village\",\"papatowai\",\"carnarvon\",\"flying fish cove\",\"hawaiian paradise park\",\"fort bragg\",\"nadym\",\"mahina\",\"songea\",\"weiser\",\"moapa valley\",\"north platte\",\"aykhal\",\"geraldton\",\"erenhot\",\"inverloch\",\"sadjoavato\",\"mount isa\",\"crane\",\"college\",\"ust-tsilma\",\"amos\",\"enewetak\",\"happy valley-goose bay\",\"concordia\",\"nadi\",\"ad dabbah\",\"susuman\",\"vorgashor\",\"klyuchi\",\"dengzhou\",\"zilair\",\"port alfred\",\"devonport\",\"talnakh\",\"rio grande\",\"raja\",\"abdurahmoni jomi\",\"isafjordur\",\"lansdowne\",\"albany\",\"zaraza\",\"vila franca do campo\",\"queenstown\",\"kavieng\",\"west island\",\"nemuro\",\"riorges\",\"ilulissat\",\"tabuk\",\"palmas\",\"arua\",\"paraparaumu\",\"fale old settlement\",\"saint-joseph\",\"kailua-kona\",\"spearfish\",\"tolanaro\",\"piacabucu\",\"lerwick\",\"todaraisingh\",\"rongelap\",\"hassi messaoud\",\"takum\",\"lazaro cardenas\",\"kenora\",\"machico\",\"stanley\",\"badger\",\"mitu\",\"bethel\",\"wailua homesteads\",\"khandyga\",\"xam nua\",\"mount gambier\",\"berbera\",\"qaqortoq\",\"bilibino\",\"jamestown\",\"constantia\",\"olonkinbyen\",\"port arthur\",\"chibougamau\",\"doctor mora\",\"coquimbo\",\"saldanha\",\"penzance\",\"ballycastle\",\"tazovsky\",\"egilsstadir\",\"hermanus\",\"sungailiat\",\"batangafo\",\"callao\",\"ancud\",\"kingston\",\"kindia\",\"nago\",\"yumbe\",\"gharghoda\",\"okhotsk\",\"paragominas\",\"mpika\",\"muli\",\"priargunsk\",\"sisimiut\",\"beloyarskiy\",\"santa elena de uairen\",\"weno\",\"saint-philippe\",\"abra pampa\",\"moissala\",\"at taj\",\"jumla\",\"tsengel\",\"nishinoomote\",\"yuzhno-kurilsk\",\"alice springs\",\"el nido\",\"nowy dwor mazowiecki\",\"lebu\",\"punta arenas\",\"boca suno\",\"las delicias\",\"bredasdorp\",\"veinticinco de mayo\",\"sitka\",\"namibe\",\"aasiaat\",\"medicine hat\",\"pandan\",\"puerto leguizamo\",\"tyukhtet\",\"patterson\",\"orono\",\"auki\",\"opuwo\",\"broken hill\",\"port mathurin\",\"korsakov\",\"corfu\",\"puerto ayora\",\"morehead city\",\"taroa\",\"newman\",\"mogadishu\",\"gadzhiyevo\",\"ankang\",\"asenovgrad\",\"mournies\",\"mejit\",\"tranqueras\",\"pionerskiy\",\"kolaras\",\"port lincoln\",\"ebon\",\"kodiak\",\"alvorada\",\"senillosa\",\"bengkulu\",\"vadso\",\"khairpur nathan shah\",\"tshikapa\",\"skovorodino\",\"felege neway\",\"hamilton\",\"hasaki\",\"birganj\",\"baihe\",\"manaure\",\"bikenibeu village\",\"tsiombe\",\"turtas\",\"east ballina\",\"minas de marcona\",\"chegdomyn\",\"gobabis\",\"mount pearl\",\"petropavlovsk-kamchatsky\",\"monrovia\",\"kharp\",\"vilyuchinsk\",\"birine\",\"lata\",\"salalah\",\"uturoa\",\"nova sintra\",\"katima mulilo\",\"camacupa\",\"chonchi\",\"shumikha\",\"spring creek\",\"antofagasta\",\"mahebourg\",\"ponta delgada\",\"champerico\",\"wucheng\",\"horta\",\"polyarnyy\",\"tianpeng\",\"vila velha\",\"mumbwa\",\"thunder bay\",\"vondrozo\",\"le port\",\"mikkeli\",\"marquette\",\"patnanungan\",\"mermoz boabab\",\"idrinskoye\",\"island harbour\",\"liwa\",\"selfoss\",\"la passe\",\"hilo\",\"pont rouge\",\"mont-laurier\",\"novo aripuana\",\"olinda\",\"dzuunharaa\",\"matola\",\"utrik\",\"shuangjiang\",\"chernomorskoye\",\"bardai\",\"pitiquito\",\"yelovo\",\"sao felix do xingu\",\"colonia\",\"preobrazheniye\",\"guatire\",\"mtimbira\",\"port-vila\",\"kasongo-lunda\",\"chuguyevka\",\"krasnoshchekovo\",\"cidreira\",\"sona\",\"kolonia\",\"kariba\",\"pisco\",\"puerto baquerizo moreno\",\"nagqu\",\"escuinapa\",\"guelmim\",\"wangqing\",\"banda aceh\",\"vikindu\",\"holualoa\",\"kobarid\",\"remire-montjoly\",\"georgetown\",\"east london\",\"notodden\",\"ciudad tula\",\"deschutes river woods\",\"catriel\",\"lavras da mangabeira\",\"ivanteyevka\",\"merizo village\",\"rolla\",\"heroica matamoros\",\"las tablas\",\"phrae\",\"callaway\",\"siguiri\",\"kiruhura\",\"zhangjiajie\",\"tortoli\",\"prince george\",\"malgobek\",\"katsuura\",\"kiama\",\"san juan nepomuceno\",\"mesquite\",\"bulungu\",\"port isabel\",\"trairi\",\"zhosaly\",\"lidzbark warminski\",\"mozarlandia\",\"zahedan\",\"bukama\",\"tofol\",\"lompoc\",\"dong ha\",\"dudinka\",\"porto velho\",\"ain beida\",\"sfantu gheorghe\",\"sechura\",\"sola\",\"kuala terengganu\",\"ketchikan\",\"rudbar\",\"toyooka\",\"pago pago\",\"baruun-urt\",\"thinadhoo\",\"port blair\",\"ceeldheer\",\"kiruna\",\"sinop\",\"novyy urengoy\",\"ulsteinvik\",\"turpan\",\"kone\",\"klaksvik\",\"kapuskasing\",\"mokhsogollokh\",\"salahonda\",\"saint-pierre\",\"usogorsk\",\"marshall\",\"dhuusamarreeb\",\"burutu\",\"yandev\",\"jatiroto\",\"fortuna\",\"caleta de carquin\",\"vera cruz\",\"severo-yeniseyskiy\",\"kumasi\",\"armacao de buzios\",\"shingu\",\"port hedland\",\"dolinsk\",\"chateau-du-loir\",\"gaiman\",\"kochani\",\"moussoro\",\"yatou\",\"vernon\",\"pecos\",\"alamosa\",\"kavaratti\",\"brindisi\",\"dungarvan\",\"iwanai\",\"st. john's\",\"grand falls-windsor\",\"maceio\",\"sao joao da barra\",\"salmas\",\"aroma\",\"bubaque\",\"worland\",\"malango\",\"lady frere\",\"keflavik\",\"velilla de san antonio\",\"kirkland lake\",\"tanumah\",\"laguna\",\"dunedin\",\"tamanrasset\",\"suzhou\",\"kiboga\",\"codrington\",\"aral\",\"labrador city\",\"brookings\",\"inarajan village\",\"tobelo\",\"mar del plata\",\"peniche\",\"dara\",\"cabo san lucas\",\"agaro\",\"sangmelima\",\"daulatpur\",\"hammerfest\",\"oberwart\",\"chipinge\",\"nova vicosa\",\"luderitz\",\"trondheim\",\"nabire\",\"charlottetown\",\"dolores\",\"yanbu\",\"al qubbah\",\"howard springs\",\"guiratinga\",\"tazacorte\",\"khulm\",\"nahiyat ash shinafiyah\",\"sao paulo de olivenca\",\"boa vista\",\"emerald\",\"kargil\",\"carauari\",\"nieuw amsterdam\",\"mugia\",\"palmer\",\"pariaman\",\"hargeysa\",\"la'ie\",\"new glasgow\",\"anjozorobe\",\"staroleushkovskaya\",\"inyati\",\"salinas\",\"naraini\",\"praia da vitoria\",\"hobyo\",\"yerseke\",\"ust'-kut\",\"schuyler\",\"brilon\",\"al burayqah\",\"nouadhibou\",\"esfarayen\",\"prado\",\"aginskoye\",\"zakynthos\",\"new norfolk\",\"itaperucu\",\"kolomyia\",\"antalaha\",\"isangel\",\"plainview\",\"guerrero negro\",\"nema\",\"xiantao\",\"verkhnevilyuysk\",\"inongo\",\"palma sola\",\"moose jaw\",\"tual\",\"tono\",\"liepaja\",\"abu zabad\",\"aberdeen\",\"kill devil hills\",\"luganville\",\"pemangkat\",\"knyaze-volkonskoye\",\"antonio enes\",\"ke-macina\",\"kachug\",\"mili\",\"sodo\",\"barra de santo antonio\",\"kenai\",\"smithers\",\"misratah\",\"hadibu\",\"north bend\",\"fort st. john\",\"panacan\",\"manta\",\"manokwari\",\"batroun\",\"chelbasskaya\",\"buala\",\"san antonio de pale\",\"hithadhoo\",\"saudarkrokur\",\"toamasina\",\"beauvais\",\"awjilah\",\"ulety\",\"carutapera\",\"wuyishan\",\"dahab\",\"ad-damazin\",\"longido\",\"tarawa\",\"hafnarfjordur\",\"sangkhla buri\",\"dazhong\",\"yuli\",\"dalnegorsk\",\"fuerte olimpo\",\"pyapon\",\"matthew town\",\"alofi\",\"tabou\",\"fort mcmurray\",\"tucurui\",\"shihezi\",\"kem'\",\"monte alegre\",\"pasuquin\",\"whangarei\",\"iskateley\",\"mandiana\",\"saipan\",\"port saint john's\",\"mutsu\",\"wewak\",\"ondjiva\",\"strezhevoy\",\"murghob\",\"kosh-agach\",\"arak\",\"khanty-mansiysk\",\"slave lake\",\"priozersk\",\"mariehamn\",\"ati\",\"bel ombre\",\"prince rupert\",\"olyokminsk\",\"oamaru\",\"marka\",\"zindah jan\",\"fada n'gourma\",\"ta`u\",\"hami\",\"cannonvale\",\"mantsala\",\"panjab\"]}}},\"line_alpha\":{\"type\":\"value\",\"value\":0.75},\"fill_color\":{\"type\":\"field\",\"field\":\"color\",\"transform\":{\"id\":\"p1410\"}},\"fill_alpha\":{\"type\":\"value\",\"value\":0.75},\"hatch_color\":{\"type\":\"field\",\"field\":\"color\",\"transform\":{\"id\":\"p1410\"}},\"hatch_alpha\":{\"type\":\"value\",\"value\":0.75}}},\"selection_glyph\":{\"type\":\"object\",\"name\":\"Scatter\",\"id\":\"p1419\",\"attributes\":{\"tags\":[\"apply_ranges\"],\"x\":{\"type\":\"field\",\"field\":\"Lng\"},\"y\":{\"type\":\"field\",\"field\":\"Lat\"},\"size\":{\"type\":\"field\",\"field\":\"size\"},\"line_color\":{\"type\":\"field\",\"field\":\"color\",\"transform\":{\"id\":\"p1410\"}},\"line_alpha\":{\"type\":\"value\",\"value\":0.75},\"fill_color\":{\"type\":\"field\",\"field\":\"color\",\"transform\":{\"id\":\"p1410\"}},\"fill_alpha\":{\"type\":\"value\",\"value\":0.75},\"hatch_color\":{\"type\":\"field\",\"field\":\"color\",\"transform\":{\"id\":\"p1410\"}},\"hatch_alpha\":{\"type\":\"value\",\"value\":0.75}}},\"nonselection_glyph\":{\"type\":\"object\",\"name\":\"Scatter\",\"id\":\"p1418\",\"attributes\":{\"tags\":[\"apply_ranges\"],\"x\":{\"type\":\"field\",\"field\":\"Lng\"},\"y\":{\"type\":\"field\",\"field\":\"Lat\"},\"size\":{\"type\":\"field\",\"field\":\"size\"},\"line_color\":{\"type\":\"field\",\"field\":\"color\",\"transform\":{\"id\":\"p1410\"}},\"line_alpha\":{\"type\":\"value\",\"value\":0.75},\"fill_color\":{\"type\":\"field\",\"field\":\"color\",\"transform\":{\"id\":\"p1410\"}},\"fill_alpha\":{\"type\":\"value\",\"value\":0.75},\"hatch_color\":{\"type\":\"field\",\"field\":\"color\",\"transform\":{\"id\":\"p1410\"}},\"hatch_alpha\":{\"type\":\"value\",\"value\":0.1}}},\"hover_glyph\":{\"type\":\"object\",\"name\":\"Scatter\",\"id\":\"p1420\",\"attributes\":{\"tags\":[\"apply_ranges\"],\"x\":{\"type\":\"field\",\"field\":\"Lng\"},\"y\":{\"type\":\"field\",\"field\":\"Lat\"},\"size\":{\"type\":\"field\",\"field\":\"size\"},\"line_color\":{\"type\":\"field\",\"field\":\"color\",\"transform\":{\"id\":\"p1410\"}},\"line_alpha\":{\"type\":\"value\",\"value\":0.75},\"fill_color\":{\"type\":\"field\",\"field\":\"color\",\"transform\":{\"id\":\"p1410\"}},\"fill_alpha\":{\"type\":\"value\",\"value\":0.75},\"hatch_color\":{\"type\":\"field\",\"field\":\"color\",\"transform\":{\"id\":\"p1410\"}},\"hatch_alpha\":{\"type\":\"value\",\"value\":0.75}}},\"muted_glyph\":{\"type\":\"object\",\"name\":\"Scatter\",\"id\":\"p1421\",\"attributes\":{\"tags\":[\"apply_ranges\"],\"x\":{\"type\":\"field\",\"field\":\"Lng\"},\"y\":{\"type\":\"field\",\"field\":\"Lat\"},\"size\":{\"type\":\"field\",\"field\":\"size\"},\"line_color\":{\"type\":\"field\",\"field\":\"color\",\"transform\":{\"id\":\"p1410\"}},\"line_alpha\":{\"type\":\"value\",\"value\":0.2},\"fill_color\":{\"type\":\"field\",\"field\":\"color\",\"transform\":{\"id\":\"p1410\"}},\"fill_alpha\":{\"type\":\"value\",\"value\":0.2},\"hatch_color\":{\"type\":\"field\",\"field\":\"color\",\"transform\":{\"id\":\"p1410\"}},\"hatch_alpha\":{\"type\":\"value\",\"value\":0.2}}}}}],\"toolbar\":{\"type\":\"object\",\"name\":\"Toolbar\",\"id\":\"p1382\",\"attributes\":{\"tools\":[{\"type\":\"object\",\"name\":\"WheelZoomTool\",\"id\":\"p1348\",\"attributes\":{\"renderers\":\"auto\",\"zoom_on_axis\":false}},{\"type\":\"object\",\"name\":\"BoxZoomTool\",\"id\":\"p1354\",\"attributes\":{\"overlay\":{\"type\":\"object\",\"name\":\"BoxAnnotation\",\"id\":\"p1349\",\"attributes\":{\"syncable\":false,\"level\":\"overlay\",\"visible\":false,\"left\":{\"type\":\"number\",\"value\":\"nan\"},\"right\":{\"type\":\"number\",\"value\":\"nan\"},\"top\":{\"type\":\"number\",\"value\":\"nan\"},\"bottom\":{\"type\":\"number\",\"value\":\"nan\"},\"left_units\":\"canvas\",\"right_units\":\"canvas\",\"top_units\":\"canvas\",\"bottom_units\":\"canvas\",\"line_color\":\"black\",\"line_alpha\":1.0,\"line_width\":2,\"line_dash\":[4,4],\"fill_color\":\"lightgrey\",\"fill_alpha\":0.5}},\"match_aspect\":true}},{\"type\":\"object\",\"name\":\"HoverTool\",\"id\":\"p1372\",\"attributes\":{\"tags\":[\"hv_created\"],\"renderers\":[{\"id\":\"p1422\"}],\"tooltips\":[[\"Lng\",\"$x{custom}\"],[\"Lat\",\"$y{custom}\"],[\"City\",\"@{City}\"],[\"Humidity\",\"@{Humidity}\"]],\"formatters\":{\"type\":\"map\",\"entries\":[[\"$x\",{\"type\":\"object\",\"name\":\"CustomJSHover\",\"id\":\"p1427\",\"attributes\":{\"code\":\"\\n        const projections = Bokeh.require(\\\"core/util/projections\\\");\\n        const {snap_x, snap_y} = special_vars\\n        const coords = projections.wgs84_mercator.invert(snap_x, snap_y)\\n        return \\\"\\\" + (coords[0]).toFixed(4)\\n    \"}}],[\"$y\",{\"type\":\"object\",\"name\":\"CustomJSHover\",\"id\":\"p1428\",\"attributes\":{\"code\":\"\\n        const projections = Bokeh.require(\\\"core/util/projections\\\");\\n        const {snap_x, snap_y} = special_vars\\n        const coords = projections.wgs84_mercator.invert(snap_x, snap_y)\\n        return \\\"\\\" + (coords[1]).toFixed(4)\\n    \"}}]]}}},{\"type\":\"object\",\"name\":\"PanTool\",\"id\":\"p1396\"},{\"type\":\"object\",\"name\":\"ResetTool\",\"id\":\"p1397\"}],\"active_drag\":{\"id\":\"p1396\"}}},\"left\":[{\"type\":\"object\",\"name\":\"LinearAxis\",\"id\":\"p1390\",\"attributes\":{\"ticker\":{\"type\":\"object\",\"name\":\"MercatorTicker\",\"id\":\"p1400\",\"attributes\":{\"mantissas\":[1,2,5],\"dimension\":\"lat\"}},\"formatter\":{\"type\":\"object\",\"name\":\"MercatorTickFormatter\",\"id\":\"p1401\",\"attributes\":{\"dimension\":\"lat\"}},\"axis_label\":\"Latitude\",\"major_label_policy\":{\"type\":\"object\",\"name\":\"AllLabels\",\"id\":\"p1393\"}}}],\"right\":[{\"type\":\"object\",\"name\":\"Legend\",\"id\":\"p1425\",\"attributes\":{\"location\":[0,0],\"click_policy\":\"mute\",\"items\":[{\"type\":\"object\",\"name\":\"LegendItem\",\"id\":\"p1426\",\"attributes\":{\"label\":{\"type\":\"field\",\"field\":\"color\"},\"renderers\":[{\"id\":\"p1422\"}]}}]}}],\"below\":[{\"type\":\"object\",\"name\":\"LinearAxis\",\"id\":\"p1385\",\"attributes\":{\"ticker\":{\"type\":\"object\",\"name\":\"MercatorTicker\",\"id\":\"p1398\",\"attributes\":{\"mantissas\":[1,2,5],\"dimension\":\"lon\"}},\"formatter\":{\"type\":\"object\",\"name\":\"MercatorTickFormatter\",\"id\":\"p1399\",\"attributes\":{\"dimension\":\"lon\"}},\"axis_label\":\"Longitude\",\"major_label_policy\":{\"type\":\"object\",\"name\":\"AllLabels\",\"id\":\"p1388\"}}}],\"center\":[{\"type\":\"object\",\"name\":\"Grid\",\"id\":\"p1389\",\"attributes\":{\"axis\":{\"id\":\"p1385\"},\"grid_line_color\":null}},{\"type\":\"object\",\"name\":\"Grid\",\"id\":\"p1394\",\"attributes\":{\"dimension\":1,\"axis\":{\"id\":\"p1390\"},\"grid_line_color\":null}}],\"frame_width\":800,\"frame_height\":600,\"min_border_top\":10,\"min_border_bottom\":10,\"min_border_left\":10,\"min_border_right\":10,\"output_backend\":\"webgl\",\"match_aspect\":true}},{\"type\":\"object\",\"name\":\"Spacer\",\"id\":\"p1430\",\"attributes\":{\"name\":\"HSpacer02120\",\"stylesheets\":[\"\\n:host(.pn-loading):before, .pn-loading:before {\\n  background-color: #c3c3c3;\\n  mask-size: auto calc(min(50%, 400px));\\n  -webkit-mask-size: auto calc(min(50%, 400px));\\n}\",{\"id\":\"p1333\"},{\"id\":\"p1331\"},{\"id\":\"p1332\"}],\"margin\":0,\"sizing_mode\":\"stretch_width\",\"align\":\"start\"}}]}}],\"defs\":[{\"type\":\"model\",\"name\":\"ReactiveHTML1\"},{\"type\":\"model\",\"name\":\"FlexBox1\",\"properties\":[{\"name\":\"align_content\",\"kind\":\"Any\",\"default\":\"flex-start\"},{\"name\":\"align_items\",\"kind\":\"Any\",\"default\":\"flex-start\"},{\"name\":\"flex_direction\",\"kind\":\"Any\",\"default\":\"row\"},{\"name\":\"flex_wrap\",\"kind\":\"Any\",\"default\":\"wrap\"},{\"name\":\"gap\",\"kind\":\"Any\",\"default\":\"\"},{\"name\":\"justify_content\",\"kind\":\"Any\",\"default\":\"flex-start\"}]},{\"type\":\"model\",\"name\":\"FloatPanel1\",\"properties\":[{\"name\":\"config\",\"kind\":\"Any\",\"default\":{\"type\":\"map\"}},{\"name\":\"contained\",\"kind\":\"Any\",\"default\":true},{\"name\":\"position\",\"kind\":\"Any\",\"default\":\"right-top\"},{\"name\":\"offsetx\",\"kind\":\"Any\",\"default\":null},{\"name\":\"offsety\",\"kind\":\"Any\",\"default\":null},{\"name\":\"theme\",\"kind\":\"Any\",\"default\":\"primary\"},{\"name\":\"status\",\"kind\":\"Any\",\"default\":\"normalized\"}]},{\"type\":\"model\",\"name\":\"GridStack1\",\"properties\":[{\"name\":\"mode\",\"kind\":\"Any\",\"default\":\"warn\"},{\"name\":\"ncols\",\"kind\":\"Any\",\"default\":null},{\"name\":\"nrows\",\"kind\":\"Any\",\"default\":null},{\"name\":\"allow_resize\",\"kind\":\"Any\",\"default\":true},{\"name\":\"allow_drag\",\"kind\":\"Any\",\"default\":true},{\"name\":\"state\",\"kind\":\"Any\",\"default\":[]}]},{\"type\":\"model\",\"name\":\"drag1\",\"properties\":[{\"name\":\"slider_width\",\"kind\":\"Any\",\"default\":5},{\"name\":\"slider_color\",\"kind\":\"Any\",\"default\":\"black\"},{\"name\":\"value\",\"kind\":\"Any\",\"default\":50}]},{\"type\":\"model\",\"name\":\"click1\",\"properties\":[{\"name\":\"terminal_output\",\"kind\":\"Any\",\"default\":\"\"},{\"name\":\"debug_name\",\"kind\":\"Any\",\"default\":\"\"},{\"name\":\"clears\",\"kind\":\"Any\",\"default\":0}]},{\"type\":\"model\",\"name\":\"FastWrapper1\",\"properties\":[{\"name\":\"object\",\"kind\":\"Any\",\"default\":null},{\"name\":\"style\",\"kind\":\"Any\",\"default\":null}]},{\"type\":\"model\",\"name\":\"NotificationAreaBase1\",\"properties\":[{\"name\":\"js_events\",\"kind\":\"Any\",\"default\":{\"type\":\"map\"}},{\"name\":\"position\",\"kind\":\"Any\",\"default\":\"bottom-right\"},{\"name\":\"_clear\",\"kind\":\"Any\",\"default\":0}]},{\"type\":\"model\",\"name\":\"NotificationArea1\",\"properties\":[{\"name\":\"js_events\",\"kind\":\"Any\",\"default\":{\"type\":\"map\"}},{\"name\":\"notifications\",\"kind\":\"Any\",\"default\":[]},{\"name\":\"position\",\"kind\":\"Any\",\"default\":\"bottom-right\"},{\"name\":\"_clear\",\"kind\":\"Any\",\"default\":0},{\"name\":\"types\",\"kind\":\"Any\",\"default\":[{\"type\":\"map\",\"entries\":[[\"type\",\"warning\"],[\"background\",\"#ffc107\"],[\"icon\",{\"type\":\"map\",\"entries\":[[\"className\",\"fas fa-exclamation-triangle\"],[\"tagName\",\"i\"],[\"color\",\"white\"]]}]]},{\"type\":\"map\",\"entries\":[[\"type\",\"info\"],[\"background\",\"#007bff\"],[\"icon\",{\"type\":\"map\",\"entries\":[[\"className\",\"fas fa-info-circle\"],[\"tagName\",\"i\"],[\"color\",\"white\"]]}]]}]}]},{\"type\":\"model\",\"name\":\"Notification\",\"properties\":[{\"name\":\"background\",\"kind\":\"Any\",\"default\":null},{\"name\":\"duration\",\"kind\":\"Any\",\"default\":3000},{\"name\":\"icon\",\"kind\":\"Any\",\"default\":null},{\"name\":\"message\",\"kind\":\"Any\",\"default\":\"\"},{\"name\":\"notification_type\",\"kind\":\"Any\",\"default\":null},{\"name\":\"_destroyed\",\"kind\":\"Any\",\"default\":false}]},{\"type\":\"model\",\"name\":\"TemplateActions1\",\"properties\":[{\"name\":\"open_modal\",\"kind\":\"Any\",\"default\":0},{\"name\":\"close_modal\",\"kind\":\"Any\",\"default\":0}]},{\"type\":\"model\",\"name\":\"BootstrapTemplateActions1\",\"properties\":[{\"name\":\"open_modal\",\"kind\":\"Any\",\"default\":0},{\"name\":\"close_modal\",\"kind\":\"Any\",\"default\":0}]},{\"type\":\"model\",\"name\":\"TemplateEditor1\",\"properties\":[{\"name\":\"layout\",\"kind\":\"Any\",\"default\":[]}]},{\"type\":\"model\",\"name\":\"MaterialTemplateActions1\",\"properties\":[{\"name\":\"open_modal\",\"kind\":\"Any\",\"default\":0},{\"name\":\"close_modal\",\"kind\":\"Any\",\"default\":0}]},{\"type\":\"model\",\"name\":\"copy_to_clipboard1\",\"properties\":[{\"name\":\"fill\",\"kind\":\"Any\",\"default\":\"none\"},{\"name\":\"value\",\"kind\":\"Any\",\"default\":null}]}]}};\n",
       "  var render_items = [{\"docid\":\"af65b13e-a536-472f-b0c3-6ba0109af528\",\"roots\":{\"p1330\":\"e8dcabe8-198a-415a-a5a4-51d75e6a5eaa\"},\"root_ids\":[\"p1330\"]}];\n",
       "  var docs = Object.values(docs_json)\n",
       "  if (!docs) {\n",
       "    return\n",
       "  }\n",
       "  const py_version = docs[0].version.replace('rc', '-rc.').replace('.dev', '-dev.')\n",
       "  async function embed_document(root) {\n",
       "    var Bokeh = get_bokeh(root)\n",
       "    await Bokeh.embed.embed_items_notebook(docs_json, render_items);\n",
       "    for (const render_item of render_items) {\n",
       "      for (const root_id of render_item.root_ids) {\n",
       "\tconst id_el = document.getElementById(root_id)\n",
       "\tif (id_el.children.length && id_el.children[0].hasAttribute('data-root-id')) {\n",
       "\t  const root_el = id_el.children[0]\n",
       "\t  root_el.id = root_el.id + '-rendered'\n",
       "\t  for (const child of root_el.children) {\n",
       "            // Ensure JupyterLab does not capture keyboard shortcuts\n",
       "            // see: https://jupyterlab.readthedocs.io/en/4.1.x/extension/notebook.html#keyboard-interaction-model\n",
       "\t    child.setAttribute('data-lm-suppress-shortcuts', 'true')\n",
       "\t  }\n",
       "\t}\n",
       "      }\n",
       "    }\n",
       "  }\n",
       "  function get_bokeh(root) {\n",
       "    if (root.Bokeh === undefined) {\n",
       "      return null\n",
       "    } else if (root.Bokeh.version !== py_version) {\n",
       "      if (root.Bokeh.versions === undefined || !root.Bokeh.versions.has(py_version)) {\n",
       "\treturn null\n",
       "      }\n",
       "      return root.Bokeh.versions.get(py_version);\n",
       "    } else if (root.Bokeh.version === py_version) {\n",
       "      return root.Bokeh\n",
       "    }\n",
       "    return null\n",
       "  }\n",
       "  function is_loaded(root) {\n",
       "    var Bokeh = get_bokeh(root)\n",
       "    return (Bokeh != null && Bokeh.Panel !== undefined)\n",
       "  }\n",
       "  if (is_loaded(root)) {\n",
       "    embed_document(root);\n",
       "  } else {\n",
       "    var attempts = 0;\n",
       "    var timer = setInterval(function(root) {\n",
       "      if (is_loaded(root)) {\n",
       "        clearInterval(timer);\n",
       "        embed_document(root);\n",
       "      } else if (document.readyState == \"complete\") {\n",
       "        attempts++;\n",
       "        if (attempts > 200) {\n",
       "          clearInterval(timer);\n",
       "\t  var Bokeh = get_bokeh(root)\n",
       "\t  if (Bokeh == null || Bokeh.Panel == null) {\n",
       "            console.warn(\"Panel: ERROR: Unable to run Panel code because Bokeh or Panel library is missing\");\n",
       "\t  } else {\n",
       "\t    console.warn(\"Panel: WARNING: Attempting to render but not all required libraries could be resolved.\")\n",
       "\t    embed_document(root)\n",
       "\t  }\n",
       "        }\n",
       "      }\n",
       "    }, 25, root)\n",
       "  }\n",
       "})(window);</script>"
      ],
      "text/plain": [
       ":Overlay\n",
       "   .WMTS.I   :WMTS   [Longitude,Latitude]\n",
       "   .Points.I :Points   [Lng,Lat]   (City,Humidity)"
      ]
     },
     "execution_count": 44,
     "metadata": {
      "application/vnd.holoviews_exec.v0+json": {
       "id": "p1330"
      }
     },
     "output_type": "execute_result"
    }
   ],
   "source": [
    "%%capture --no-display\n",
    "\n",
    "# Configure the map plot\n",
    "map_plot_1 = city_data_df.hvplot.points(\n",
    "    \"Lng\",\n",
    "    \"Lat\",\n",
    "    geo = True,\n",
    "    tiles = \"OSM\",\n",
    "    frame_width = 800,\n",
    "    frame_height = 600,\n",
    "    size = \"Humidity\",\n",
    "    color=\"City\",\n",
    "    alpha=.75\n",
    ")\n",
    "\n",
    "# Display the map\n",
    "map_plot_1"
   ]
  },
  {
   "cell_type": "markdown",
   "metadata": {},
   "source": [
    "### Step 2: Narrow down the `city_data_df` DataFrame to find your ideal weather condition"
   ]
  },
  {
   "cell_type": "code",
   "execution_count": 47,
   "metadata": {},
   "outputs": [
    {
     "data": {
      "text/html": [
       "<div>\n",
       "<style scoped>\n",
       "    .dataframe tbody tr th:only-of-type {\n",
       "        vertical-align: middle;\n",
       "    }\n",
       "\n",
       "    .dataframe tbody tr th {\n",
       "        vertical-align: top;\n",
       "    }\n",
       "\n",
       "    .dataframe thead th {\n",
       "        text-align: right;\n",
       "    }\n",
       "</style>\n",
       "<table border=\"1\" class=\"dataframe\">\n",
       "  <thead>\n",
       "    <tr style=\"text-align: right;\">\n",
       "      <th></th>\n",
       "      <th>City_ID</th>\n",
       "      <th>City</th>\n",
       "      <th>Lat</th>\n",
       "      <th>Lng</th>\n",
       "      <th>Max Temp</th>\n",
       "      <th>Humidity</th>\n",
       "      <th>Cloudiness</th>\n",
       "      <th>Wind Speed</th>\n",
       "      <th>Country</th>\n",
       "      <th>Date</th>\n",
       "    </tr>\n",
       "  </thead>\n",
       "  <tbody>\n",
       "  </tbody>\n",
       "</table>\n",
       "</div>"
      ],
      "text/plain": [
       "Empty DataFrame\n",
       "Columns: [City_ID, City, Lat, Lng, Max Temp, Humidity, Cloudiness, Wind Speed, Country, Date]\n",
       "Index: []"
      ]
     },
     "execution_count": 47,
     "metadata": {},
     "output_type": "execute_result"
    }
   ],
   "source": [
    "# Narrow down cities that fit criteria and drop any results with null values\n",
    "city_data_df = city_data_df.loc[(city_data_df[\"Max Temp\"] < 30) & (city_data_df[\"Max Temp\"] > 20)]\n",
    "city_data_df = city_data_df.loc[(city_data_df[\"Wind Speed\"] < 2)]\n",
    "city_data_df = city_data_df.loc[(city_data_df[\"Cloudiness\"] == 1)]\n",
    "# Drop any rows with null values\n",
    "city_data_df = city_data_df.dropna()\n",
    "\n",
    "# Display sample data\n",
    "city_data_df"
   ]
  },
  {
   "cell_type": "markdown",
   "metadata": {},
   "source": [
    "### Step 3: Create a new DataFrame called `hotel_df`."
   ]
  },
  {
   "cell_type": "code",
   "execution_count": 50,
   "metadata": {},
   "outputs": [
    {
     "data": {
      "text/html": [
       "<div>\n",
       "<style scoped>\n",
       "    .dataframe tbody tr th:only-of-type {\n",
       "        vertical-align: middle;\n",
       "    }\n",
       "\n",
       "    .dataframe tbody tr th {\n",
       "        vertical-align: top;\n",
       "    }\n",
       "\n",
       "    .dataframe thead th {\n",
       "        text-align: right;\n",
       "    }\n",
       "</style>\n",
       "<table border=\"1\" class=\"dataframe\">\n",
       "  <thead>\n",
       "    <tr style=\"text-align: right;\">\n",
       "      <th></th>\n",
       "      <th>City</th>\n",
       "      <th>Country</th>\n",
       "      <th>Max Temp</th>\n",
       "      <th>Lat</th>\n",
       "      <th>Lng</th>\n",
       "      <th>Hotel Name</th>\n",
       "    </tr>\n",
       "  </thead>\n",
       "  <tbody>\n",
       "  </tbody>\n",
       "</table>\n",
       "</div>"
      ],
      "text/plain": [
       "Empty DataFrame\n",
       "Columns: [City, Country, Max Temp, Lat, Lng, Hotel Name]\n",
       "Index: []"
      ]
     },
     "execution_count": 50,
     "metadata": {},
     "output_type": "execute_result"
    }
   ],
   "source": [
    "# Use the Pandas copy function to create DataFrame called hotel_df to store the city, country, coordinates, and humidity\n",
    "hotel_df = city_data_df[[\"City\", \"Country\", \"Max Temp\", \"Lat\", \"Lng\"]].copy()\n",
    "# Add an empty column, \"Hotel Name,\" to the DataFrame so you can store the hotel found using the Geoapify API\n",
    "hotel_df[\"Hotel Name\"] = \"\"\n",
    "\n",
    "# Display sample data\n",
    "hotel_df"
   ]
  },
  {
   "cell_type": "markdown",
   "metadata": {},
   "source": [
    "### Step 4: For each city, use the Geoapify API to find the first hotel located within 10,000 metres of your coordinates."
   ]
  },
  {
   "cell_type": "code",
   "execution_count": 53,
   "metadata": {},
   "outputs": [
    {
     "name": "stdout",
     "output_type": "stream",
     "text": [
      "Starting hotel search\n"
     ]
    },
    {
     "data": {
      "text/html": [
       "<div>\n",
       "<style scoped>\n",
       "    .dataframe tbody tr th:only-of-type {\n",
       "        vertical-align: middle;\n",
       "    }\n",
       "\n",
       "    .dataframe tbody tr th {\n",
       "        vertical-align: top;\n",
       "    }\n",
       "\n",
       "    .dataframe thead th {\n",
       "        text-align: right;\n",
       "    }\n",
       "</style>\n",
       "<table border=\"1\" class=\"dataframe\">\n",
       "  <thead>\n",
       "    <tr style=\"text-align: right;\">\n",
       "      <th></th>\n",
       "      <th>City</th>\n",
       "      <th>Country</th>\n",
       "      <th>Max Temp</th>\n",
       "      <th>Lat</th>\n",
       "      <th>Lng</th>\n",
       "      <th>Hotel Name</th>\n",
       "    </tr>\n",
       "  </thead>\n",
       "  <tbody>\n",
       "  </tbody>\n",
       "</table>\n",
       "</div>"
      ],
      "text/plain": [
       "Empty DataFrame\n",
       "Columns: [City, Country, Max Temp, Lat, Lng, Hotel Name]\n",
       "Index: []"
      ]
     },
     "execution_count": 53,
     "metadata": {},
     "output_type": "execute_result"
    }
   ],
   "source": [
    "# Set parameters to search for a hotel\n",
    "radius = 5000\n",
    "params = {\n",
    "    \"categories\": \"accommodation.hotel\",\n",
    "    \"apiKey\":geoapify_key\n",
    "}\n",
    "\n",
    "# Print a message to follow up the hotel search\n",
    "print(\"Starting hotel search\")\n",
    "\n",
    "# Iterate through the hotel_df DataFrame\n",
    "for index, row in hotel_df.iterrows():\n",
    "    # get latitude, longitude from the DataFrame\n",
    "    lat = row[\"Lat\"]\n",
    "    lon = row[\"Lng\"]\n",
    "    \n",
    "\n",
    "    # Add the current city's latitude and longitude to the params dictionary\n",
    "    params[\"filter\"] = f\"circle:{lon},{lat},{radius}\"\n",
    "    params[\"bias\"] = f\"proximity:{lon},{lat}\"\n",
    "\n",
    "    # Set base URL\n",
    "    base_url = \"https://api.geoapify.com/v2/places\"\n",
    "\n",
    "    # Make and API request using the params dictionary\n",
    "    name_address = requests.get(base_url, params=params)\n",
    "\n",
    "    # Convert the API response to JSON format\n",
    "    name_address = name_address.json()\n",
    "\n",
    "    # Grab the first hotel from the results and store the name in the hotel_df DataFrame\n",
    "    try:\n",
    "        hotel_df.loc[index, \"Hotel Name\"] = name_address[\"features\"][0][\"properties\"][\"name\"]\n",
    "    except (KeyError, IndexError):\n",
    "        # If no hotel is found, set the hotel name as \"No hotel found\".\n",
    "        hotel_df.loc[index, \"Hotel Name\"] = \"No hotel found\"\n",
    "\n",
    "    # Log the search results\n",
    "    print(f\"{hotel_df.loc[index, 'City']} - nearest hotel: {hotel_df.loc[index, 'Hotel Name']}\")\n",
    "\n",
    "# Display sample data\n",
    "hotel_df"
   ]
  },
  {
   "cell_type": "markdown",
   "metadata": {},
   "source": [
    "### Step 5: Add the hotel name and the country as additional information in the hover message for each city in the map."
   ]
  },
  {
   "cell_type": "code",
   "execution_count": 56,
   "metadata": {},
   "outputs": [
    {
     "name": "stderr",
     "output_type": "stream",
     "text": [
      "WARNING:param.GeoPointPlot02280: Specified size dim transform (np.sqrt(dim('Humidity'))*1) could not be applied, as not all dimensions could be resolved.\n"
     ]
    },
    {
     "data": {},
     "metadata": {},
     "output_type": "display_data"
    },
    {
     "data": {
      "application/vnd.holoviews_exec.v0+json": "",
      "text/html": [
       "<div id='p1438'>\n",
       "  <div id=\"d317a9e0-0ff9-452d-a5dd-632486f882e9\" data-root-id=\"p1438\" style=\"display: contents;\"></div>\n",
       "</div>\n",
       "<script type=\"application/javascript\">(function(root) {\n",
       "  var docs_json = {\"93a445e5-be25-4fb5-a4b2-1816dbc570cb\":{\"version\":\"3.4.1\",\"title\":\"Bokeh Application\",\"roots\":[{\"type\":\"object\",\"name\":\"Row\",\"id\":\"p1438\",\"attributes\":{\"name\":\"Row02251\",\"tags\":[\"embedded\"],\"stylesheets\":[\"\\n:host(.pn-loading):before, .pn-loading:before {\\n  background-color: #c3c3c3;\\n  mask-size: auto calc(min(50%, 400px));\\n  -webkit-mask-size: auto calc(min(50%, 400px));\\n}\",{\"type\":\"object\",\"name\":\"ImportedStyleSheet\",\"id\":\"p1441\",\"attributes\":{\"url\":\"https://cdn.holoviz.org/panel/1.4.4/dist/css/loading.css\"}},{\"type\":\"object\",\"name\":\"ImportedStyleSheet\",\"id\":\"p1537\",\"attributes\":{\"url\":\"https://cdn.holoviz.org/panel/1.4.4/dist/css/listpanel.css\"}},{\"type\":\"object\",\"name\":\"ImportedStyleSheet\",\"id\":\"p1439\",\"attributes\":{\"url\":\"https://cdn.holoviz.org/panel/1.4.4/dist/bundled/theme/default.css\"}},{\"type\":\"object\",\"name\":\"ImportedStyleSheet\",\"id\":\"p1440\",\"attributes\":{\"url\":\"https://cdn.holoviz.org/panel/1.4.4/dist/bundled/theme/native.css\"}}],\"margin\":0,\"sizing_mode\":\"stretch_width\",\"align\":\"start\",\"children\":[{\"type\":\"object\",\"name\":\"Spacer\",\"id\":\"p1442\",\"attributes\":{\"name\":\"HSpacer02257\",\"stylesheets\":[\"\\n:host(.pn-loading):before, .pn-loading:before {\\n  background-color: #c3c3c3;\\n  mask-size: auto calc(min(50%, 400px));\\n  -webkit-mask-size: auto calc(min(50%, 400px));\\n}\",{\"id\":\"p1441\"},{\"id\":\"p1439\"},{\"id\":\"p1440\"}],\"margin\":0,\"sizing_mode\":\"stretch_width\",\"align\":\"start\"}},{\"type\":\"object\",\"name\":\"Figure\",\"id\":\"p1481\",\"attributes\":{\"width\":null,\"height\":null,\"margin\":[5,10],\"sizing_mode\":\"fixed\",\"align\":\"start\",\"x_range\":{\"type\":\"object\",\"name\":\"Range1d\",\"id\":\"p1452\",\"attributes\":{\"tags\":[[[\"Longitude\",null]],[]],\"start\":-2.0,\"end\":3.0,\"min_interval\":5}},\"y_range\":{\"type\":\"object\",\"name\":\"Range1d\",\"id\":\"p1453\",\"attributes\":{\"tags\":[[[\"Latitude\",null]],{\"type\":\"map\",\"entries\":[[\"invert_yaxis\",false],[\"autorange\",false]]}],\"start\":-2.0,\"end\":3.0,\"min_interval\":5}},\"x_scale\":{\"type\":\"object\",\"name\":\"LinearScale\",\"id\":\"p1491\"},\"y_scale\":{\"type\":\"object\",\"name\":\"LinearScale\",\"id\":\"p1492\"},\"title\":{\"type\":\"object\",\"name\":\"Title\",\"id\":\"p1484\",\"attributes\":{\"text_color\":\"black\",\"text_font_size\":\"12pt\"}},\"renderers\":[{\"type\":\"object\",\"name\":\"TileRenderer\",\"id\":\"p1514\",\"attributes\":{\"level\":\"underlay\",\"tile_source\":{\"type\":\"object\",\"name\":\"WMTSTileSource\",\"id\":\"p1510\",\"attributes\":{\"url\":\"https://c.tile.openstreetmap.org/{Z}/{X}/{Y}.png\",\"attribution\":\"&copy; <a href=\\\"https://www.openstreetmap.org/copyright\\\">OpenStreetMap</a> contributors\"}}}},{\"type\":\"object\",\"name\":\"GlyphRenderer\",\"id\":\"p1529\",\"attributes\":{\"data_source\":{\"type\":\"object\",\"name\":\"ColumnDataSource\",\"id\":\"p1518\",\"attributes\":{\"selected\":{\"type\":\"object\",\"name\":\"Selection\",\"id\":\"p1519\",\"attributes\":{\"indices\":[],\"line_indices\":[]}},\"selection_policy\":{\"type\":\"object\",\"name\":\"UnionRenderers\",\"id\":\"p1520\"},\"data\":{\"type\":\"map\",\"entries\":[[\"Lng\",{\"type\":\"ndarray\",\"array\":{\"type\":\"bytes\",\"data\":\"\"},\"shape\":[0],\"dtype\":\"float64\",\"order\":\"little\"}],[\"Lat\",{\"type\":\"ndarray\",\"array\":{\"type\":\"bytes\",\"data\":\"\"},\"shape\":[0],\"dtype\":\"float64\",\"order\":\"little\"}],[\"City\",{\"type\":\"ndarray\",\"array\":[],\"shape\":[0],\"dtype\":\"object\",\"order\":\"little\"}],[\"Hotel_Name\",{\"type\":\"ndarray\",\"array\":[],\"shape\":[0],\"dtype\":\"object\",\"order\":\"little\"}],[\"Country\",{\"type\":\"ndarray\",\"array\":[],\"shape\":[0],\"dtype\":\"object\",\"order\":\"little\"}],[\"color\",{\"type\":\"ndarray\",\"array\":[],\"shape\":[0],\"dtype\":\"object\",\"order\":\"little\"}]]}}},\"view\":{\"type\":\"object\",\"name\":\"CDSView\",\"id\":\"p1530\",\"attributes\":{\"filter\":{\"type\":\"object\",\"name\":\"AllIndices\",\"id\":\"p1531\"}}},\"glyph\":{\"type\":\"object\",\"name\":\"Scatter\",\"id\":\"p1524\",\"attributes\":{\"tags\":[\"apply_ranges\"],\"x\":{\"type\":\"field\",\"field\":\"Lng\"},\"y\":{\"type\":\"field\",\"field\":\"Lat\"},\"line_color\":{\"type\":\"field\",\"field\":\"color\"},\"line_alpha\":{\"type\":\"value\",\"value\":0.75},\"fill_color\":{\"type\":\"field\",\"field\":\"color\"},\"fill_alpha\":{\"type\":\"value\",\"value\":0.75},\"hatch_color\":{\"type\":\"field\",\"field\":\"color\"},\"hatch_alpha\":{\"type\":\"value\",\"value\":0.75}}},\"selection_glyph\":{\"type\":\"object\",\"name\":\"Scatter\",\"id\":\"p1526\",\"attributes\":{\"tags\":[\"apply_ranges\"],\"x\":{\"type\":\"field\",\"field\":\"Lng\"},\"y\":{\"type\":\"field\",\"field\":\"Lat\"},\"line_color\":{\"type\":\"field\",\"field\":\"color\"},\"line_alpha\":{\"type\":\"value\",\"value\":0.75},\"fill_color\":{\"type\":\"field\",\"field\":\"color\"},\"fill_alpha\":{\"type\":\"value\",\"value\":0.75},\"hatch_color\":{\"type\":\"field\",\"field\":\"color\"},\"hatch_alpha\":{\"type\":\"value\",\"value\":0.75}}},\"nonselection_glyph\":{\"type\":\"object\",\"name\":\"Scatter\",\"id\":\"p1525\",\"attributes\":{\"tags\":[\"apply_ranges\"],\"x\":{\"type\":\"field\",\"field\":\"Lng\"},\"y\":{\"type\":\"field\",\"field\":\"Lat\"},\"line_color\":{\"type\":\"field\",\"field\":\"color\"},\"line_alpha\":{\"type\":\"value\",\"value\":0.75},\"fill_color\":{\"type\":\"field\",\"field\":\"color\"},\"fill_alpha\":{\"type\":\"value\",\"value\":0.75},\"hatch_color\":{\"type\":\"field\",\"field\":\"color\"},\"hatch_alpha\":{\"type\":\"value\",\"value\":0.1}}},\"hover_glyph\":{\"type\":\"object\",\"name\":\"Scatter\",\"id\":\"p1527\",\"attributes\":{\"tags\":[\"apply_ranges\"],\"x\":{\"type\":\"field\",\"field\":\"Lng\"},\"y\":{\"type\":\"field\",\"field\":\"Lat\"},\"line_color\":{\"type\":\"field\",\"field\":\"color\"},\"line_alpha\":{\"type\":\"value\",\"value\":0.75},\"fill_color\":{\"type\":\"field\",\"field\":\"color\"},\"fill_alpha\":{\"type\":\"value\",\"value\":0.75},\"hatch_color\":{\"type\":\"field\",\"field\":\"color\"},\"hatch_alpha\":{\"type\":\"value\",\"value\":0.75}}},\"muted_glyph\":{\"type\":\"object\",\"name\":\"Scatter\",\"id\":\"p1528\",\"attributes\":{\"tags\":[\"apply_ranges\"],\"x\":{\"type\":\"field\",\"field\":\"Lng\"},\"y\":{\"type\":\"field\",\"field\":\"Lat\"},\"line_color\":{\"type\":\"field\",\"field\":\"color\"},\"line_alpha\":{\"type\":\"value\",\"value\":0.2},\"fill_color\":{\"type\":\"field\",\"field\":\"color\"},\"fill_alpha\":{\"type\":\"value\",\"value\":0.2},\"hatch_color\":{\"type\":\"field\",\"field\":\"color\"},\"hatch_alpha\":{\"type\":\"value\",\"value\":0.2}}}}}],\"toolbar\":{\"type\":\"object\",\"name\":\"Toolbar\",\"id\":\"p1490\",\"attributes\":{\"tools\":[{\"type\":\"object\",\"name\":\"WheelZoomTool\",\"id\":\"p1456\",\"attributes\":{\"renderers\":\"auto\",\"zoom_on_axis\":false}},{\"type\":\"object\",\"name\":\"BoxZoomTool\",\"id\":\"p1462\",\"attributes\":{\"overlay\":{\"type\":\"object\",\"name\":\"BoxAnnotation\",\"id\":\"p1457\",\"attributes\":{\"syncable\":false,\"level\":\"overlay\",\"visible\":false,\"left\":{\"type\":\"number\",\"value\":\"nan\"},\"right\":{\"type\":\"number\",\"value\":\"nan\"},\"top\":{\"type\":\"number\",\"value\":\"nan\"},\"bottom\":{\"type\":\"number\",\"value\":\"nan\"},\"left_units\":\"canvas\",\"right_units\":\"canvas\",\"top_units\":\"canvas\",\"bottom_units\":\"canvas\",\"line_color\":\"black\",\"line_alpha\":1.0,\"line_width\":2,\"line_dash\":[4,4],\"fill_color\":\"lightgrey\",\"fill_alpha\":0.5}},\"match_aspect\":true}},{\"type\":\"object\",\"name\":\"HoverTool\",\"id\":\"p1480\",\"attributes\":{\"tags\":[\"hv_created\"],\"renderers\":[{\"id\":\"p1529\"}],\"tooltips\":[[\"Lng\",\"$x{custom}\"],[\"Lat\",\"$y{custom}\"],[\"City\",\"@{City}\"],[\"Hotel Name\",\"@{Hotel_Name}\"],[\"Country\",\"@{Country}\"]],\"formatters\":{\"type\":\"map\",\"entries\":[[\"$x\",{\"type\":\"object\",\"name\":\"CustomJSHover\",\"id\":\"p1532\",\"attributes\":{\"code\":\"\\n        const projections = Bokeh.require(\\\"core/util/projections\\\");\\n        const {snap_x, snap_y} = special_vars\\n        const coords = projections.wgs84_mercator.invert(snap_x, snap_y)\\n        return \\\"\\\" + (coords[0]).toFixed(4)\\n    \"}}],[\"$y\",{\"type\":\"object\",\"name\":\"CustomJSHover\",\"id\":\"p1533\",\"attributes\":{\"code\":\"\\n        const projections = Bokeh.require(\\\"core/util/projections\\\");\\n        const {snap_x, snap_y} = special_vars\\n        const coords = projections.wgs84_mercator.invert(snap_x, snap_y)\\n        return \\\"\\\" + (coords[1]).toFixed(4)\\n    \"}}]]}}},{\"type\":\"object\",\"name\":\"PanTool\",\"id\":\"p1504\"},{\"type\":\"object\",\"name\":\"ResetTool\",\"id\":\"p1505\"}],\"active_drag\":{\"id\":\"p1504\"}}},\"left\":[{\"type\":\"object\",\"name\":\"LinearAxis\",\"id\":\"p1498\",\"attributes\":{\"ticker\":{\"type\":\"object\",\"name\":\"MercatorTicker\",\"id\":\"p1508\",\"attributes\":{\"mantissas\":[1,2,5],\"dimension\":\"lat\"}},\"formatter\":{\"type\":\"object\",\"name\":\"MercatorTickFormatter\",\"id\":\"p1509\",\"attributes\":{\"dimension\":\"lat\"}},\"axis_label\":\"Latitude\",\"major_label_policy\":{\"type\":\"object\",\"name\":\"AllLabels\",\"id\":\"p1501\"}}}],\"below\":[{\"type\":\"object\",\"name\":\"LinearAxis\",\"id\":\"p1493\",\"attributes\":{\"ticker\":{\"type\":\"object\",\"name\":\"MercatorTicker\",\"id\":\"p1506\",\"attributes\":{\"mantissas\":[1,2,5],\"dimension\":\"lon\"}},\"formatter\":{\"type\":\"object\",\"name\":\"MercatorTickFormatter\",\"id\":\"p1507\",\"attributes\":{\"dimension\":\"lon\"}},\"axis_label\":\"Longitude\",\"major_label_policy\":{\"type\":\"object\",\"name\":\"AllLabels\",\"id\":\"p1496\"}}}],\"center\":[{\"type\":\"object\",\"name\":\"Grid\",\"id\":\"p1497\",\"attributes\":{\"axis\":{\"id\":\"p1493\"},\"grid_line_color\":null}},{\"type\":\"object\",\"name\":\"Grid\",\"id\":\"p1502\",\"attributes\":{\"dimension\":1,\"axis\":{\"id\":\"p1498\"},\"grid_line_color\":null}}],\"frame_width\":800,\"frame_height\":600,\"min_border_top\":10,\"min_border_bottom\":10,\"min_border_left\":10,\"min_border_right\":10,\"output_backend\":\"webgl\",\"match_aspect\":true}},{\"type\":\"object\",\"name\":\"Spacer\",\"id\":\"p1535\",\"attributes\":{\"name\":\"HSpacer02258\",\"stylesheets\":[\"\\n:host(.pn-loading):before, .pn-loading:before {\\n  background-color: #c3c3c3;\\n  mask-size: auto calc(min(50%, 400px));\\n  -webkit-mask-size: auto calc(min(50%, 400px));\\n}\",{\"id\":\"p1441\"},{\"id\":\"p1439\"},{\"id\":\"p1440\"}],\"margin\":0,\"sizing_mode\":\"stretch_width\",\"align\":\"start\"}}]}}],\"defs\":[{\"type\":\"model\",\"name\":\"ReactiveHTML1\"},{\"type\":\"model\",\"name\":\"FlexBox1\",\"properties\":[{\"name\":\"align_content\",\"kind\":\"Any\",\"default\":\"flex-start\"},{\"name\":\"align_items\",\"kind\":\"Any\",\"default\":\"flex-start\"},{\"name\":\"flex_direction\",\"kind\":\"Any\",\"default\":\"row\"},{\"name\":\"flex_wrap\",\"kind\":\"Any\",\"default\":\"wrap\"},{\"name\":\"gap\",\"kind\":\"Any\",\"default\":\"\"},{\"name\":\"justify_content\",\"kind\":\"Any\",\"default\":\"flex-start\"}]},{\"type\":\"model\",\"name\":\"FloatPanel1\",\"properties\":[{\"name\":\"config\",\"kind\":\"Any\",\"default\":{\"type\":\"map\"}},{\"name\":\"contained\",\"kind\":\"Any\",\"default\":true},{\"name\":\"position\",\"kind\":\"Any\",\"default\":\"right-top\"},{\"name\":\"offsetx\",\"kind\":\"Any\",\"default\":null},{\"name\":\"offsety\",\"kind\":\"Any\",\"default\":null},{\"name\":\"theme\",\"kind\":\"Any\",\"default\":\"primary\"},{\"name\":\"status\",\"kind\":\"Any\",\"default\":\"normalized\"}]},{\"type\":\"model\",\"name\":\"GridStack1\",\"properties\":[{\"name\":\"mode\",\"kind\":\"Any\",\"default\":\"warn\"},{\"name\":\"ncols\",\"kind\":\"Any\",\"default\":null},{\"name\":\"nrows\",\"kind\":\"Any\",\"default\":null},{\"name\":\"allow_resize\",\"kind\":\"Any\",\"default\":true},{\"name\":\"allow_drag\",\"kind\":\"Any\",\"default\":true},{\"name\":\"state\",\"kind\":\"Any\",\"default\":[]}]},{\"type\":\"model\",\"name\":\"drag1\",\"properties\":[{\"name\":\"slider_width\",\"kind\":\"Any\",\"default\":5},{\"name\":\"slider_color\",\"kind\":\"Any\",\"default\":\"black\"},{\"name\":\"value\",\"kind\":\"Any\",\"default\":50}]},{\"type\":\"model\",\"name\":\"click1\",\"properties\":[{\"name\":\"terminal_output\",\"kind\":\"Any\",\"default\":\"\"},{\"name\":\"debug_name\",\"kind\":\"Any\",\"default\":\"\"},{\"name\":\"clears\",\"kind\":\"Any\",\"default\":0}]},{\"type\":\"model\",\"name\":\"FastWrapper1\",\"properties\":[{\"name\":\"object\",\"kind\":\"Any\",\"default\":null},{\"name\":\"style\",\"kind\":\"Any\",\"default\":null}]},{\"type\":\"model\",\"name\":\"NotificationAreaBase1\",\"properties\":[{\"name\":\"js_events\",\"kind\":\"Any\",\"default\":{\"type\":\"map\"}},{\"name\":\"position\",\"kind\":\"Any\",\"default\":\"bottom-right\"},{\"name\":\"_clear\",\"kind\":\"Any\",\"default\":0}]},{\"type\":\"model\",\"name\":\"NotificationArea1\",\"properties\":[{\"name\":\"js_events\",\"kind\":\"Any\",\"default\":{\"type\":\"map\"}},{\"name\":\"notifications\",\"kind\":\"Any\",\"default\":[]},{\"name\":\"position\",\"kind\":\"Any\",\"default\":\"bottom-right\"},{\"name\":\"_clear\",\"kind\":\"Any\",\"default\":0},{\"name\":\"types\",\"kind\":\"Any\",\"default\":[{\"type\":\"map\",\"entries\":[[\"type\",\"warning\"],[\"background\",\"#ffc107\"],[\"icon\",{\"type\":\"map\",\"entries\":[[\"className\",\"fas fa-exclamation-triangle\"],[\"tagName\",\"i\"],[\"color\",\"white\"]]}]]},{\"type\":\"map\",\"entries\":[[\"type\",\"info\"],[\"background\",\"#007bff\"],[\"icon\",{\"type\":\"map\",\"entries\":[[\"className\",\"fas fa-info-circle\"],[\"tagName\",\"i\"],[\"color\",\"white\"]]}]]}]}]},{\"type\":\"model\",\"name\":\"Notification\",\"properties\":[{\"name\":\"background\",\"kind\":\"Any\",\"default\":null},{\"name\":\"duration\",\"kind\":\"Any\",\"default\":3000},{\"name\":\"icon\",\"kind\":\"Any\",\"default\":null},{\"name\":\"message\",\"kind\":\"Any\",\"default\":\"\"},{\"name\":\"notification_type\",\"kind\":\"Any\",\"default\":null},{\"name\":\"_destroyed\",\"kind\":\"Any\",\"default\":false}]},{\"type\":\"model\",\"name\":\"TemplateActions1\",\"properties\":[{\"name\":\"open_modal\",\"kind\":\"Any\",\"default\":0},{\"name\":\"close_modal\",\"kind\":\"Any\",\"default\":0}]},{\"type\":\"model\",\"name\":\"BootstrapTemplateActions1\",\"properties\":[{\"name\":\"open_modal\",\"kind\":\"Any\",\"default\":0},{\"name\":\"close_modal\",\"kind\":\"Any\",\"default\":0}]},{\"type\":\"model\",\"name\":\"TemplateEditor1\",\"properties\":[{\"name\":\"layout\",\"kind\":\"Any\",\"default\":[]}]},{\"type\":\"model\",\"name\":\"MaterialTemplateActions1\",\"properties\":[{\"name\":\"open_modal\",\"kind\":\"Any\",\"default\":0},{\"name\":\"close_modal\",\"kind\":\"Any\",\"default\":0}]},{\"type\":\"model\",\"name\":\"copy_to_clipboard1\",\"properties\":[{\"name\":\"fill\",\"kind\":\"Any\",\"default\":\"none\"},{\"name\":\"value\",\"kind\":\"Any\",\"default\":null}]}]}};\n",
       "  var render_items = [{\"docid\":\"93a445e5-be25-4fb5-a4b2-1816dbc570cb\",\"roots\":{\"p1438\":\"d317a9e0-0ff9-452d-a5dd-632486f882e9\"},\"root_ids\":[\"p1438\"]}];\n",
       "  var docs = Object.values(docs_json)\n",
       "  if (!docs) {\n",
       "    return\n",
       "  }\n",
       "  const py_version = docs[0].version.replace('rc', '-rc.').replace('.dev', '-dev.')\n",
       "  async function embed_document(root) {\n",
       "    var Bokeh = get_bokeh(root)\n",
       "    await Bokeh.embed.embed_items_notebook(docs_json, render_items);\n",
       "    for (const render_item of render_items) {\n",
       "      for (const root_id of render_item.root_ids) {\n",
       "\tconst id_el = document.getElementById(root_id)\n",
       "\tif (id_el.children.length && id_el.children[0].hasAttribute('data-root-id')) {\n",
       "\t  const root_el = id_el.children[0]\n",
       "\t  root_el.id = root_el.id + '-rendered'\n",
       "\t  for (const child of root_el.children) {\n",
       "            // Ensure JupyterLab does not capture keyboard shortcuts\n",
       "            // see: https://jupyterlab.readthedocs.io/en/4.1.x/extension/notebook.html#keyboard-interaction-model\n",
       "\t    child.setAttribute('data-lm-suppress-shortcuts', 'true')\n",
       "\t  }\n",
       "\t}\n",
       "      }\n",
       "    }\n",
       "  }\n",
       "  function get_bokeh(root) {\n",
       "    if (root.Bokeh === undefined) {\n",
       "      return null\n",
       "    } else if (root.Bokeh.version !== py_version) {\n",
       "      if (root.Bokeh.versions === undefined || !root.Bokeh.versions.has(py_version)) {\n",
       "\treturn null\n",
       "      }\n",
       "      return root.Bokeh.versions.get(py_version);\n",
       "    } else if (root.Bokeh.version === py_version) {\n",
       "      return root.Bokeh\n",
       "    }\n",
       "    return null\n",
       "  }\n",
       "  function is_loaded(root) {\n",
       "    var Bokeh = get_bokeh(root)\n",
       "    return (Bokeh != null && Bokeh.Panel !== undefined)\n",
       "  }\n",
       "  if (is_loaded(root)) {\n",
       "    embed_document(root);\n",
       "  } else {\n",
       "    var attempts = 0;\n",
       "    var timer = setInterval(function(root) {\n",
       "      if (is_loaded(root)) {\n",
       "        clearInterval(timer);\n",
       "        embed_document(root);\n",
       "      } else if (document.readyState == \"complete\") {\n",
       "        attempts++;\n",
       "        if (attempts > 200) {\n",
       "          clearInterval(timer);\n",
       "\t  var Bokeh = get_bokeh(root)\n",
       "\t  if (Bokeh == null || Bokeh.Panel == null) {\n",
       "            console.warn(\"Panel: ERROR: Unable to run Panel code because Bokeh or Panel library is missing\");\n",
       "\t  } else {\n",
       "\t    console.warn(\"Panel: WARNING: Attempting to render but not all required libraries could be resolved.\")\n",
       "\t    embed_document(root)\n",
       "\t  }\n",
       "        }\n",
       "      }\n",
       "    }, 25, root)\n",
       "  }\n",
       "})(window);</script>"
      ],
      "text/plain": [
       ":Overlay\n",
       "   .WMTS.I   :WMTS   [Longitude,Latitude]\n",
       "   .Points.I :Points   [Lng,Lat]   (City,Hotel Name,Country)"
      ]
     },
     "execution_count": 56,
     "metadata": {
      "application/vnd.holoviews_exec.v0+json": {
       "id": "p1438"
      }
     },
     "output_type": "execute_result"
    }
   ],
   "source": [
    "%%capture --no-display\n",
    "\n",
    "# Configure the map plot\n",
    "map_plot_2 = hotel_df.hvplot.points(\n",
    "    \"Lng\",\n",
    "    \"Lat\",\n",
    "    geo = True,\n",
    "    tiles = \"OSM\",\n",
    "    frame_width = 800,\n",
    "    frame_height = 600,\n",
    "    size = \"Humidity\",\n",
    "    color=\"City\",\n",
    "    alpha=.75,\n",
    "    hover_cols=[\"Hotel Name\", \"Country\"]\n",
    ")\n",
    "\n",
    "# Display the map\n",
    "map_plot_2"
   ]
  },
  {
   "cell_type": "code",
   "execution_count": null,
   "metadata": {},
   "outputs": [],
   "source": []
  }
 ],
 "metadata": {
  "kernelspec": {
   "display_name": "Python 3 (ipykernel)",
   "language": "python",
   "name": "python3"
  },
  "language_info": {
   "codemirror_mode": {
    "name": "ipython",
    "version": 3
   },
   "file_extension": ".py",
   "mimetype": "text/x-python",
   "name": "python",
   "nbconvert_exporter": "python",
   "pygments_lexer": "ipython3",
   "version": "3.12.4"
  },
  "latex_envs": {
   "LaTeX_envs_menu_present": true,
   "autoclose": false,
   "autocomplete": true,
   "bibliofile": "biblio.bib",
   "cite_by": "apalike",
   "current_citInitial": 1,
   "eqLabelWithNumbers": true,
   "eqNumInitial": 1,
   "hotkeys": {
    "equation": "Ctrl-E",
    "itemize": "Ctrl-I"
   },
   "labels_anchors": false,
   "latex_user_defs": false,
   "report_style_numbering": false,
   "user_envs_cfg": false
  }
 },
 "nbformat": 4,
 "nbformat_minor": 4
}
